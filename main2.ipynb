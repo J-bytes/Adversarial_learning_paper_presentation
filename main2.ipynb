{
 "cells": [
  {
   "cell_type": "code",
   "execution_count": 17,
   "metadata": {},
   "outputs": [
    {
     "name": "stdout",
     "output_type": "stream",
     "text": [
      "Requirement already satisfied: torchattacks in ./venv/lib/python3.9/site-packages (3.3.0)\r\n",
      "\r\n",
      "\u001B[1m[\u001B[0m\u001B[34;49mnotice\u001B[0m\u001B[1;39;49m]\u001B[0m\u001B[39;49m A new release of pip available: \u001B[0m\u001B[31;49m22.2.1\u001B[0m\u001B[39;49m -> \u001B[0m\u001B[32;49m22.3.1\u001B[0m\r\n",
      "\u001B[1m[\u001B[0m\u001B[34;49mnotice\u001B[0m\u001B[1;39;49m]\u001B[0m\u001B[39;49m To update, run: \u001B[0m\u001B[32;49mpip install --upgrade pip\u001B[0m\r\n"
     ]
    }
   ],
   "source": [
    "import os\n",
    "import timm\n",
    "import torch\n",
    "from torch.utils.data import DataLoader\n",
    "import numpy as np\n",
    "import wandb\n",
    "wandb.init(project=\"adversarial-paper-ift6164\", entity=\"j-bytes\")\n",
    "import torchattacks\n",
    "import torchvision.transforms as transforms\n",
    "from torchvision import datasets\n",
    "import albumentations as A\n",
    "from torchvision.transforms import ToTensor\n",
    "import matplotlib.pyplot as plt\n",
    "from utils import training_loop,validation_loop,randAugment\n",
    "from tqdm.notebook import tqdm\n",
    "from torch.utils.data import Dataset\n",
    "device= \"cuda\" if torch.cuda.is_available() else \"cpu\"\n",
    "names = [\"airplane\",\"automobile\",\"bird\",\"cat\",\"deer\",\"dog\",\"frog\",\"horse\",\"ship\",\"truck\"]\n",
    "num_classes=len(names)"
   ]
  },
  {
   "cell_type": "code",
   "execution_count": 18,
   "metadata": {},
   "outputs": [],
   "source": [
    "import torchattacks\n",
    "mean = (0.485, 0.456, 0.406)\n",
    "std = (0.229, 0.224, 0.225)\n",
    "\n",
    "model1 = timm.create_model(\"resnext50_32x4d\",pretrained=True,num_classes=num_classes).to(device) #trained on imagenet\n",
    "model2 = timm.create_model(\"convnext_small\",pretrained=True,num_classes=num_classes).to(device) # will be trained on cifar10\n",
    "\n",
    "#ops = randAugment(N=2,M=5,p=0.5,mode=\"all\",cut_out=True)\n",
    "train_transform=transforms.Compose(\n",
    "    [\n",
    "        #transforms.RandAugment(num_ops=5,magnitude=2),\n",
    "\n",
    "        transforms.RandomHorizontalFlip(),\n",
    "        transforms.RandomCrop(32, padding=4),\n",
    "        transforms.ColorJitter(brightness=0.2, contrast=0.2, saturation=0.2),\n",
    "        transforms.ToTensor(),\n",
    "        transforms.Normalize(mean,std)\n",
    "    ]\n",
    ")\n",
    "\n",
    "val_transform=transforms.Compose(\n",
    "    [\n",
    "                transforms.Resize(32),\n",
    "                transforms.CenterCrop(32),\n",
    "                transforms.ToTensor(),\n",
    "                transforms.Normalize(mean, std),\n",
    "    ]\n",
    ")\n",
    "\n",
    "def target_transform(label) :\n",
    "     label_vector = torch.zeros((num_classes))\n",
    "     label_vector[label]=1\n",
    "     return label_vector\n",
    "\n",
    "# class Cifar10SearchDataset(datasets.CIFAR10):\n",
    "#     def __init__(self, root=\"~/data/cifar10\", train=True, download=True, transform=None):\n",
    "#         super().__init__(root=root, train=train, download=download, transform=transform)\n",
    "#\n",
    "#     def __getitem__(self, index):\n",
    "#         image, label = self.data[index], self.targets[index]\n",
    "#\n",
    "#         if self.transform is not None:\n",
    "#             transformed = self.transform(image=image)\n",
    "#             image = transformed[\"image\"]\n",
    "#\n",
    "#         return image, label\n",
    "training_data = datasets.CIFAR10(\n",
    "    root=\"/mnt/f/data\",\n",
    "    train=True,\n",
    "    download=True,\n",
    "    transform=train_transform,\n",
    "    #target_transform=target_transform\n",
    "\n",
    ")\n",
    "\n",
    "test_data = datasets.CIFAR10(\n",
    "    root=\"/mnt/f/data\",\n",
    "    train=False,\n",
    "    download=True,\n",
    "    transform=val_transform,\n",
    "    #target_transform=target_transform\n",
    "\n",
    ")\n",
    "\n",
    "\n",
    "\n"
   ]
  },
  {
   "cell_type": "code",
   "execution_count": 19,
   "metadata": {},
   "outputs": [
    {
     "name": "stdout",
     "output_type": "stream",
     "text": [
      "Files already downloaded and verified\n",
      "Files already downloaded and verified\n"
     ]
    }
   ],
   "source": [
    "train_loader = DataLoader(\n",
    "    training_data,\n",
    "    num_workers=8,\n",
    "    batch_size=256,\n",
    "    shuffle=True\n",
    ")\n",
    "test_loader= DataLoader(\n",
    "    test_data,\n",
    "    num_workers=8,\n",
    "    batch_size=256\n",
    ")"
   ]
  },
  {
   "cell_type": "code",
   "execution_count": 20,
   "metadata": {},
   "outputs": [],
   "source": [
    "\n",
    "metrics = {\n",
    "    \"accuracy\" : [],\n",
    "    \"train_loss\" : [],\n",
    "    \"val_loss\" : [],\n",
    "}\n",
    "keep_training=True\n",
    "criterion = lambda  pred, true : torch.nn.functional.cross_entropy(torch.softmax(pred,dim=1),true)\n",
    "for model in  [model2,model1] :\n",
    "    if os.path.exists(f\"{model.default_cfg['architecture']}.pt\") :\n",
    "        model.load_state_dict(torch.load(f\"{model.default_cfg['architecture']}.pt\"))\n",
    "        model = model.to(device)\n",
    "        val_loss,results = validation_loop(model,test_loader,criterion,device,autocast=False)\n",
    "        accuracy = (results[0].cpu().numpy()== np.argmax(torch.softmax(results[1].cpu(),dim=1).numpy(),axis=1)).mean()\n",
    "        print(f\"Model : {model.default_cfg['architecture']} , Accuracy : {accuracy}\")\n",
    "    else :\n",
    "        accuracy=0\n",
    "    if keep_training and accuracy<0.85 :\n",
    "        optimizer = torch.optim.AdamW(model.parameters(),lr=1e-4,weight_decay=1e-3)\n",
    "\n",
    "\n",
    "        scaler = torch.cuda.amp.GradScaler()\n",
    "        max_epoch = 30\n",
    "        scheduler=torch.optim.lr_scheduler.OneCycleLR(max_lr=1e-4,optimizer=optimizer,epochs=max_epoch,steps_per_epoch=len(train_loader))\n",
    "\n",
    "        for epoch in (pbar:=tqdm(range(0,max_epoch),position=0,leave=True)) :\n",
    "            loss = training_loop(model,tqdm(train_loader,position=1,leave=False),optimizer=optimizer,criterion=criterion,device=device,scaler=scaler,clip_norm=0,autocast=False,scheduler=scheduler,epoch=max_epoch)\n",
    "\n",
    "            val_loss,results = validation_loop(model,test_loader,criterion,device,autocast=True)\n",
    "            accuracy = (results[0].cpu().numpy()== np.argmax(torch.softmax(results[1].cpu(),dim=1).numpy(),axis=1)).mean()\n",
    "            pbar.set_description(f\"Training loss : {loss/len(train_loader)} ,  validation loss : {val_loss/len(test_loader)} , accuracy : {accuracy}\")\n",
    "            metrics[\"accuracy\"].append(accuracy)\n",
    "            metrics[\"train_loss\"].append(loss/len(train_loader))\n",
    "            metrics[\"val_loss\"].append(val_loss/len(test_loader))\n",
    "\n",
    "\n",
    "        torch.save(model.state_dict(), f\"{model.default_cfg['architecture']}.pt\")\n",
    "        model.to(\"cpu\")\n",
    "\n"
   ]
  },
  {
   "cell_type": "code",
   "execution_count": 21,
   "metadata": {},
   "outputs": [
    {
     "name": "stdout",
     "output_type": "stream",
     "text": [
      "Model : convnext_small , Accuracy : 0.9156\n"
     ]
    },
    {
     "name": "stderr",
     "output_type": "stream",
     "text": [
      "wandb: ERROR Dropped streaming file chunk (see wandb/debug-internal.log)\n",
      "ERROR:root:dropped chunk 404 Client Error: Not Found for url: https://api.wandb.ai/files/j-bytes/adversarial-paper-ift6164/379k44go/file_stream\n",
      "NoneType: None\n"
     ]
    },
    {
     "name": "stdout",
     "output_type": "stream",
     "text": [
      "Model : resnext50_32x4d , Accuracy : 0.8462\n"
     ]
    },
    {
     "data": {
      "text/plain": "  0%|          | 0/30 [00:00<?, ?it/s]",
      "application/vnd.jupyter.widget-view+json": {
       "version_major": 2,
       "version_minor": 0,
       "model_id": "b19250500a564360bd0dc4e2d45948db"
      },
      "application/json": {
       "n": 0,
       "total": 30,
       "elapsed": 0.014201879501342773,
       "ncols": null,
       "nrows": 24,
       "prefix": "",
       "ascii": false,
       "unit": "it",
       "unit_scale": false,
       "rate": null,
       "bar_format": null,
       "postfix": null,
       "unit_divisor": 1000,
       "initial": 0,
       "colour": null
      }
     },
     "metadata": {},
     "output_type": "display_data"
    },
    {
     "data": {
      "text/plain": "  0%|          | 0/196 [00:00<?, ?it/s]",
      "application/vnd.jupyter.widget-view+json": {
       "version_major": 2,
       "version_minor": 0,
       "model_id": "f109b215845b448fa1eba6a7f8d16dad"
      },
      "application/json": {
       "n": 0,
       "total": 196,
       "elapsed": 0.012195348739624023,
       "ncols": null,
       "nrows": 24,
       "prefix": "",
       "ascii": false,
       "unit": "it",
       "unit_scale": false,
       "rate": null,
       "bar_format": null,
       "postfix": null,
       "unit_divisor": 1000,
       "initial": 0,
       "colour": null
      }
     },
     "metadata": {},
     "output_type": "display_data"
    },
    {
     "data": {
      "text/plain": "  0%|          | 0/196 [00:00<?, ?it/s]",
      "application/vnd.jupyter.widget-view+json": {
       "version_major": 2,
       "version_minor": 0,
       "model_id": "38fe407db0ff4179b8f76bd043b785d3"
      },
      "application/json": {
       "n": 0,
       "total": 196,
       "elapsed": 0.013375043869018555,
       "ncols": null,
       "nrows": 24,
       "prefix": "",
       "ascii": false,
       "unit": "it",
       "unit_scale": false,
       "rate": null,
       "bar_format": null,
       "postfix": null,
       "unit_divisor": 1000,
       "initial": 0,
       "colour": null
      }
     },
     "metadata": {},
     "output_type": "display_data"
    },
    {
     "name": "stderr",
     "output_type": "stream",
     "text": [
      "wandb: ERROR Dropped streaming file chunk (see wandb/debug-internal.log)\n",
      "ERROR:root:dropped chunk 404 Client Error: Not Found for url: https://api.wandb.ai/files/j-bytes/adversarial-paper-ift6164/379k44go/file_stream\n",
      "NoneType: None\n"
     ]
    },
    {
     "data": {
      "text/plain": "  0%|          | 0/196 [00:00<?, ?it/s]",
      "application/vnd.jupyter.widget-view+json": {
       "version_major": 2,
       "version_minor": 0,
       "model_id": "985deb3f219147208c78d8b613431af5"
      },
      "application/json": {
       "n": 0,
       "total": 196,
       "elapsed": 0.013261795043945312,
       "ncols": null,
       "nrows": 24,
       "prefix": "",
       "ascii": false,
       "unit": "it",
       "unit_scale": false,
       "rate": null,
       "bar_format": null,
       "postfix": null,
       "unit_divisor": 1000,
       "initial": 0,
       "colour": null
      }
     },
     "metadata": {},
     "output_type": "display_data"
    },
    {
     "name": "stderr",
     "output_type": "stream",
     "text": [
      "wandb: ERROR Dropped streaming file chunk (see wandb/debug-internal.log)\n",
      "ERROR:root:dropped chunk 404 Client Error: Not Found for url: https://api.wandb.ai/files/j-bytes/adversarial-paper-ift6164/379k44go/file_stream\n",
      "NoneType: None\n"
     ]
    },
    {
     "data": {
      "text/plain": "  0%|          | 0/196 [00:00<?, ?it/s]",
      "application/vnd.jupyter.widget-view+json": {
       "version_major": 2,
       "version_minor": 0,
       "model_id": "c55c440510fb4b22a7d2d0df20957808"
      },
      "application/json": {
       "n": 0,
       "total": 196,
       "elapsed": 0.013425350189208984,
       "ncols": null,
       "nrows": 24,
       "prefix": "",
       "ascii": false,
       "unit": "it",
       "unit_scale": false,
       "rate": null,
       "bar_format": null,
       "postfix": null,
       "unit_divisor": 1000,
       "initial": 0,
       "colour": null
      }
     },
     "metadata": {},
     "output_type": "display_data"
    },
    {
     "data": {
      "text/plain": "  0%|          | 0/196 [00:00<?, ?it/s]",
      "application/vnd.jupyter.widget-view+json": {
       "version_major": 2,
       "version_minor": 0,
       "model_id": "9a8717486e9241c3b926234d85c756d4"
      },
      "application/json": {
       "n": 0,
       "total": 196,
       "elapsed": 0.013495683670043945,
       "ncols": null,
       "nrows": 24,
       "prefix": "",
       "ascii": false,
       "unit": "it",
       "unit_scale": false,
       "rate": null,
       "bar_format": null,
       "postfix": null,
       "unit_divisor": 1000,
       "initial": 0,
       "colour": null
      }
     },
     "metadata": {},
     "output_type": "display_data"
    },
    {
     "data": {
      "text/plain": "  0%|          | 0/196 [00:00<?, ?it/s]",
      "application/vnd.jupyter.widget-view+json": {
       "version_major": 2,
       "version_minor": 0,
       "model_id": "c0da6547a94040c4b4e567dc4af0786e"
      },
      "application/json": {
       "n": 0,
       "total": 196,
       "elapsed": 0.0134735107421875,
       "ncols": null,
       "nrows": 24,
       "prefix": "",
       "ascii": false,
       "unit": "it",
       "unit_scale": false,
       "rate": null,
       "bar_format": null,
       "postfix": null,
       "unit_divisor": 1000,
       "initial": 0,
       "colour": null
      }
     },
     "metadata": {},
     "output_type": "display_data"
    },
    {
     "name": "stderr",
     "output_type": "stream",
     "text": [
      "wandb: ERROR Dropped streaming file chunk (see wandb/debug-internal.log)\n",
      "ERROR:root:dropped chunk 404 Client Error: Not Found for url: https://api.wandb.ai/files/j-bytes/adversarial-paper-ift6164/379k44go/file_stream\n",
      "NoneType: None\n"
     ]
    },
    {
     "data": {
      "text/plain": "  0%|          | 0/196 [00:00<?, ?it/s]",
      "application/vnd.jupyter.widget-view+json": {
       "version_major": 2,
       "version_minor": 0,
       "model_id": "4da03fb50ef84b438592dd60f1f8c004"
      },
      "application/json": {
       "n": 0,
       "total": 196,
       "elapsed": 0.013343334197998047,
       "ncols": null,
       "nrows": 24,
       "prefix": "",
       "ascii": false,
       "unit": "it",
       "unit_scale": false,
       "rate": null,
       "bar_format": null,
       "postfix": null,
       "unit_divisor": 1000,
       "initial": 0,
       "colour": null
      }
     },
     "metadata": {},
     "output_type": "display_data"
    },
    {
     "data": {
      "text/plain": "  0%|          | 0/196 [00:00<?, ?it/s]",
      "application/vnd.jupyter.widget-view+json": {
       "version_major": 2,
       "version_minor": 0,
       "model_id": "b30af8a69be1489f846aa9137e91ce22"
      },
      "application/json": {
       "n": 0,
       "total": 196,
       "elapsed": 0.013373851776123047,
       "ncols": null,
       "nrows": 24,
       "prefix": "",
       "ascii": false,
       "unit": "it",
       "unit_scale": false,
       "rate": null,
       "bar_format": null,
       "postfix": null,
       "unit_divisor": 1000,
       "initial": 0,
       "colour": null
      }
     },
     "metadata": {},
     "output_type": "display_data"
    },
    {
     "data": {
      "text/plain": "  0%|          | 0/196 [00:00<?, ?it/s]",
      "application/vnd.jupyter.widget-view+json": {
       "version_major": 2,
       "version_minor": 0,
       "model_id": "8eaf75094dee4d66a8b7bd77d5724400"
      },
      "application/json": {
       "n": 0,
       "total": 196,
       "elapsed": 0.013271808624267578,
       "ncols": null,
       "nrows": 24,
       "prefix": "",
       "ascii": false,
       "unit": "it",
       "unit_scale": false,
       "rate": null,
       "bar_format": null,
       "postfix": null,
       "unit_divisor": 1000,
       "initial": 0,
       "colour": null
      }
     },
     "metadata": {},
     "output_type": "display_data"
    },
    {
     "name": "stderr",
     "output_type": "stream",
     "text": [
      "wandb: ERROR Dropped streaming file chunk (see wandb/debug-internal.log)\n",
      "ERROR:root:dropped chunk 404 Client Error: Not Found for url: https://api.wandb.ai/files/j-bytes/adversarial-paper-ift6164/379k44go/file_stream\n",
      "NoneType: None\n"
     ]
    },
    {
     "data": {
      "text/plain": "  0%|          | 0/196 [00:00<?, ?it/s]",
      "application/vnd.jupyter.widget-view+json": {
       "version_major": 2,
       "version_minor": 0,
       "model_id": "b67a0951248f43d59a2a9426e8379178"
      },
      "application/json": {
       "n": 0,
       "total": 196,
       "elapsed": 0.013194799423217773,
       "ncols": null,
       "nrows": 24,
       "prefix": "",
       "ascii": false,
       "unit": "it",
       "unit_scale": false,
       "rate": null,
       "bar_format": null,
       "postfix": null,
       "unit_divisor": 1000,
       "initial": 0,
       "colour": null
      }
     },
     "metadata": {},
     "output_type": "display_data"
    },
    {
     "data": {
      "text/plain": "  0%|          | 0/196 [00:00<?, ?it/s]",
      "application/vnd.jupyter.widget-view+json": {
       "version_major": 2,
       "version_minor": 0,
       "model_id": "9c68d5340f5a40768f57335c107be251"
      },
      "application/json": {
       "n": 0,
       "total": 196,
       "elapsed": 0.013485193252563477,
       "ncols": null,
       "nrows": 24,
       "prefix": "",
       "ascii": false,
       "unit": "it",
       "unit_scale": false,
       "rate": null,
       "bar_format": null,
       "postfix": null,
       "unit_divisor": 1000,
       "initial": 0,
       "colour": null
      }
     },
     "metadata": {},
     "output_type": "display_data"
    },
    {
     "data": {
      "text/plain": "  0%|          | 0/196 [00:00<?, ?it/s]",
      "application/vnd.jupyter.widget-view+json": {
       "version_major": 2,
       "version_minor": 0,
       "model_id": "7137e34b4c274fdab332f6d281f11c65"
      },
      "application/json": {
       "n": 0,
       "total": 196,
       "elapsed": 0.013322114944458008,
       "ncols": null,
       "nrows": 24,
       "prefix": "",
       "ascii": false,
       "unit": "it",
       "unit_scale": false,
       "rate": null,
       "bar_format": null,
       "postfix": null,
       "unit_divisor": 1000,
       "initial": 0,
       "colour": null
      }
     },
     "metadata": {},
     "output_type": "display_data"
    },
    {
     "name": "stderr",
     "output_type": "stream",
     "text": [
      "wandb: ERROR Dropped streaming file chunk (see wandb/debug-internal.log)\n",
      "ERROR:root:dropped chunk 404 Client Error: Not Found for url: https://api.wandb.ai/files/j-bytes/adversarial-paper-ift6164/379k44go/file_stream\n",
      "NoneType: None\n"
     ]
    },
    {
     "data": {
      "text/plain": "  0%|          | 0/196 [00:00<?, ?it/s]",
      "application/vnd.jupyter.widget-view+json": {
       "version_major": 2,
       "version_minor": 0,
       "model_id": "849a64ed801a47c5b6e175e12a2a584f"
      },
      "application/json": {
       "n": 0,
       "total": 196,
       "elapsed": 0.01325535774230957,
       "ncols": null,
       "nrows": 24,
       "prefix": "",
       "ascii": false,
       "unit": "it",
       "unit_scale": false,
       "rate": null,
       "bar_format": null,
       "postfix": null,
       "unit_divisor": 1000,
       "initial": 0,
       "colour": null
      }
     },
     "metadata": {},
     "output_type": "display_data"
    },
    {
     "data": {
      "text/plain": "  0%|          | 0/196 [00:00<?, ?it/s]",
      "application/vnd.jupyter.widget-view+json": {
       "version_major": 2,
       "version_minor": 0,
       "model_id": "4b690b63d3494dd99b486610912e5498"
      },
      "application/json": {
       "n": 0,
       "total": 196,
       "elapsed": 0.012989521026611328,
       "ncols": null,
       "nrows": 24,
       "prefix": "",
       "ascii": false,
       "unit": "it",
       "unit_scale": false,
       "rate": null,
       "bar_format": null,
       "postfix": null,
       "unit_divisor": 1000,
       "initial": 0,
       "colour": null
      }
     },
     "metadata": {},
     "output_type": "display_data"
    },
    {
     "data": {
      "text/plain": "  0%|          | 0/196 [00:00<?, ?it/s]",
      "application/vnd.jupyter.widget-view+json": {
       "version_major": 2,
       "version_minor": 0,
       "model_id": "fa93fbbe1e7c4905b312491c803fbf56"
      },
      "application/json": {
       "n": 0,
       "total": 196,
       "elapsed": 0.013250589370727539,
       "ncols": null,
       "nrows": 24,
       "prefix": "",
       "ascii": false,
       "unit": "it",
       "unit_scale": false,
       "rate": null,
       "bar_format": null,
       "postfix": null,
       "unit_divisor": 1000,
       "initial": 0,
       "colour": null
      }
     },
     "metadata": {},
     "output_type": "display_data"
    },
    {
     "name": "stderr",
     "output_type": "stream",
     "text": [
      "wandb: ERROR Dropped streaming file chunk (see wandb/debug-internal.log)\n",
      "ERROR:root:dropped chunk 404 Client Error: Not Found for url: https://api.wandb.ai/files/j-bytes/adversarial-paper-ift6164/379k44go/file_stream\n",
      "NoneType: None\n"
     ]
    },
    {
     "data": {
      "text/plain": "  0%|          | 0/196 [00:00<?, ?it/s]",
      "application/vnd.jupyter.widget-view+json": {
       "version_major": 2,
       "version_minor": 0,
       "model_id": "eba6ddca2116496a9332771a2f3d3c25"
      },
      "application/json": {
       "n": 0,
       "total": 196,
       "elapsed": 0.013323068618774414,
       "ncols": null,
       "nrows": 24,
       "prefix": "",
       "ascii": false,
       "unit": "it",
       "unit_scale": false,
       "rate": null,
       "bar_format": null,
       "postfix": null,
       "unit_divisor": 1000,
       "initial": 0,
       "colour": null
      }
     },
     "metadata": {},
     "output_type": "display_data"
    },
    {
     "data": {
      "text/plain": "  0%|          | 0/196 [00:00<?, ?it/s]",
      "application/vnd.jupyter.widget-view+json": {
       "version_major": 2,
       "version_minor": 0,
       "model_id": "538962ce91b741fd8b0195d8dc1fd248"
      },
      "application/json": {
       "n": 0,
       "total": 196,
       "elapsed": 0.013375282287597656,
       "ncols": null,
       "nrows": 24,
       "prefix": "",
       "ascii": false,
       "unit": "it",
       "unit_scale": false,
       "rate": null,
       "bar_format": null,
       "postfix": null,
       "unit_divisor": 1000,
       "initial": 0,
       "colour": null
      }
     },
     "metadata": {},
     "output_type": "display_data"
    },
    {
     "data": {
      "text/plain": "  0%|          | 0/196 [00:00<?, ?it/s]",
      "application/vnd.jupyter.widget-view+json": {
       "version_major": 2,
       "version_minor": 0,
       "model_id": "c0f28cdcbac942768592af0318ad23ae"
      },
      "application/json": {
       "n": 0,
       "total": 196,
       "elapsed": 0.012844562530517578,
       "ncols": null,
       "nrows": 24,
       "prefix": "",
       "ascii": false,
       "unit": "it",
       "unit_scale": false,
       "rate": null,
       "bar_format": null,
       "postfix": null,
       "unit_divisor": 1000,
       "initial": 0,
       "colour": null
      }
     },
     "metadata": {},
     "output_type": "display_data"
    },
    {
     "name": "stderr",
     "output_type": "stream",
     "text": [
      "wandb: ERROR Dropped streaming file chunk (see wandb/debug-internal.log)\n",
      "ERROR:root:dropped chunk 404 Client Error: Not Found for url: https://api.wandb.ai/files/j-bytes/adversarial-paper-ift6164/379k44go/file_stream\n",
      "NoneType: None\n"
     ]
    },
    {
     "data": {
      "text/plain": "  0%|          | 0/196 [00:00<?, ?it/s]",
      "application/vnd.jupyter.widget-view+json": {
       "version_major": 2,
       "version_minor": 0,
       "model_id": "7bedb8739cfc4d8f85b5cda06ccbdaa0"
      },
      "application/json": {
       "n": 0,
       "total": 196,
       "elapsed": 0.013255596160888672,
       "ncols": null,
       "nrows": 24,
       "prefix": "",
       "ascii": false,
       "unit": "it",
       "unit_scale": false,
       "rate": null,
       "bar_format": null,
       "postfix": null,
       "unit_divisor": 1000,
       "initial": 0,
       "colour": null
      }
     },
     "metadata": {},
     "output_type": "display_data"
    },
    {
     "data": {
      "text/plain": "  0%|          | 0/196 [00:00<?, ?it/s]",
      "application/vnd.jupyter.widget-view+json": {
       "version_major": 2,
       "version_minor": 0,
       "model_id": "c378082f94124989b308d8145643f641"
      },
      "application/json": {
       "n": 0,
       "total": 196,
       "elapsed": 0.01345682144165039,
       "ncols": null,
       "nrows": 24,
       "prefix": "",
       "ascii": false,
       "unit": "it",
       "unit_scale": false,
       "rate": null,
       "bar_format": null,
       "postfix": null,
       "unit_divisor": 1000,
       "initial": 0,
       "colour": null
      }
     },
     "metadata": {},
     "output_type": "display_data"
    },
    {
     "data": {
      "text/plain": "  0%|          | 0/196 [00:00<?, ?it/s]",
      "application/vnd.jupyter.widget-view+json": {
       "version_major": 2,
       "version_minor": 0,
       "model_id": "e50dcdafa8ae44cf9978e7973b0cb3f3"
      },
      "application/json": {
       "n": 0,
       "total": 196,
       "elapsed": 0.013443231582641602,
       "ncols": null,
       "nrows": 24,
       "prefix": "",
       "ascii": false,
       "unit": "it",
       "unit_scale": false,
       "rate": null,
       "bar_format": null,
       "postfix": null,
       "unit_divisor": 1000,
       "initial": 0,
       "colour": null
      }
     },
     "metadata": {},
     "output_type": "display_data"
    },
    {
     "name": "stderr",
     "output_type": "stream",
     "text": [
      "wandb: ERROR Dropped streaming file chunk (see wandb/debug-internal.log)\n",
      "ERROR:root:dropped chunk 404 Client Error: Not Found for url: https://api.wandb.ai/files/j-bytes/adversarial-paper-ift6164/379k44go/file_stream\n",
      "NoneType: None\n"
     ]
    },
    {
     "data": {
      "text/plain": "  0%|          | 0/196 [00:00<?, ?it/s]",
      "application/vnd.jupyter.widget-view+json": {
       "version_major": 2,
       "version_minor": 0,
       "model_id": "641119c4167c4f06acc9ee9d25467df8"
      },
      "application/json": {
       "n": 0,
       "total": 196,
       "elapsed": 0.013376235961914062,
       "ncols": null,
       "nrows": 24,
       "prefix": "",
       "ascii": false,
       "unit": "it",
       "unit_scale": false,
       "rate": null,
       "bar_format": null,
       "postfix": null,
       "unit_divisor": 1000,
       "initial": 0,
       "colour": null
      }
     },
     "metadata": {},
     "output_type": "display_data"
    },
    {
     "data": {
      "text/plain": "  0%|          | 0/196 [00:00<?, ?it/s]",
      "application/vnd.jupyter.widget-view+json": {
       "version_major": 2,
       "version_minor": 0,
       "model_id": "64ae112d21b8472d8c63e7e0ab399200"
      },
      "application/json": {
       "n": 0,
       "total": 196,
       "elapsed": 0.012787342071533203,
       "ncols": null,
       "nrows": 24,
       "prefix": "",
       "ascii": false,
       "unit": "it",
       "unit_scale": false,
       "rate": null,
       "bar_format": null,
       "postfix": null,
       "unit_divisor": 1000,
       "initial": 0,
       "colour": null
      }
     },
     "metadata": {},
     "output_type": "display_data"
    },
    {
     "data": {
      "text/plain": "  0%|          | 0/196 [00:00<?, ?it/s]",
      "application/vnd.jupyter.widget-view+json": {
       "version_major": 2,
       "version_minor": 0,
       "model_id": "7bbefd1d461444c19d46c757c81a5f55"
      },
      "application/json": {
       "n": 0,
       "total": 196,
       "elapsed": 0.013515949249267578,
       "ncols": null,
       "nrows": 24,
       "prefix": "",
       "ascii": false,
       "unit": "it",
       "unit_scale": false,
       "rate": null,
       "bar_format": null,
       "postfix": null,
       "unit_divisor": 1000,
       "initial": 0,
       "colour": null
      }
     },
     "metadata": {},
     "output_type": "display_data"
    },
    {
     "name": "stderr",
     "output_type": "stream",
     "text": [
      "wandb: ERROR Dropped streaming file chunk (see wandb/debug-internal.log)\n",
      "ERROR:root:dropped chunk 404 Client Error: Not Found for url: https://api.wandb.ai/files/j-bytes/adversarial-paper-ift6164/379k44go/file_stream\n",
      "NoneType: None\n"
     ]
    },
    {
     "data": {
      "text/plain": "  0%|          | 0/196 [00:00<?, ?it/s]",
      "application/vnd.jupyter.widget-view+json": {
       "version_major": 2,
       "version_minor": 0,
       "model_id": "2f5b0e343bc04b9aaaf5682bf569eb3f"
      },
      "application/json": {
       "n": 0,
       "total": 196,
       "elapsed": 0.013057470321655273,
       "ncols": null,
       "nrows": 24,
       "prefix": "",
       "ascii": false,
       "unit": "it",
       "unit_scale": false,
       "rate": null,
       "bar_format": null,
       "postfix": null,
       "unit_divisor": 1000,
       "initial": 0,
       "colour": null
      }
     },
     "metadata": {},
     "output_type": "display_data"
    },
    {
     "data": {
      "text/plain": "  0%|          | 0/196 [00:00<?, ?it/s]",
      "application/vnd.jupyter.widget-view+json": {
       "version_major": 2,
       "version_minor": 0,
       "model_id": "be1099ea485949fdb33c07a972c0a1ef"
      },
      "application/json": {
       "n": 0,
       "total": 196,
       "elapsed": 0.013076543807983398,
       "ncols": null,
       "nrows": 24,
       "prefix": "",
       "ascii": false,
       "unit": "it",
       "unit_scale": false,
       "rate": null,
       "bar_format": null,
       "postfix": null,
       "unit_divisor": 1000,
       "initial": 0,
       "colour": null
      }
     },
     "metadata": {},
     "output_type": "display_data"
    },
    {
     "data": {
      "text/plain": "  0%|          | 0/196 [00:00<?, ?it/s]",
      "application/vnd.jupyter.widget-view+json": {
       "version_major": 2,
       "version_minor": 0,
       "model_id": "8e7bb4d915004c4595990d3b1bfe342a"
      },
      "application/json": {
       "n": 0,
       "total": 196,
       "elapsed": 0.013287544250488281,
       "ncols": null,
       "nrows": 24,
       "prefix": "",
       "ascii": false,
       "unit": "it",
       "unit_scale": false,
       "rate": null,
       "bar_format": null,
       "postfix": null,
       "unit_divisor": 1000,
       "initial": 0,
       "colour": null
      }
     },
     "metadata": {},
     "output_type": "display_data"
    },
    {
     "name": "stderr",
     "output_type": "stream",
     "text": [
      "wandb: ERROR Dropped streaming file chunk (see wandb/debug-internal.log)\n",
      "ERROR:root:dropped chunk 404 Client Error: Not Found for url: https://api.wandb.ai/files/j-bytes/adversarial-paper-ift6164/379k44go/file_stream\n",
      "NoneType: None\n"
     ]
    },
    {
     "data": {
      "text/plain": "  0%|          | 0/196 [00:00<?, ?it/s]",
      "application/vnd.jupyter.widget-view+json": {
       "version_major": 2,
       "version_minor": 0,
       "model_id": "56dd1dc77abf46b4bfc9d59b565a594f"
      },
      "application/json": {
       "n": 0,
       "total": 196,
       "elapsed": 0.01331329345703125,
       "ncols": null,
       "nrows": 24,
       "prefix": "",
       "ascii": false,
       "unit": "it",
       "unit_scale": false,
       "rate": null,
       "bar_format": null,
       "postfix": null,
       "unit_divisor": 1000,
       "initial": 0,
       "colour": null
      }
     },
     "metadata": {},
     "output_type": "display_data"
    },
    {
     "data": {
      "text/plain": "  0%|          | 0/196 [00:00<?, ?it/s]",
      "application/vnd.jupyter.widget-view+json": {
       "version_major": 2,
       "version_minor": 0,
       "model_id": "3ed333fd441c4d5c95ec2f1a336bf6dc"
      },
      "application/json": {
       "n": 0,
       "total": 196,
       "elapsed": 0.013477802276611328,
       "ncols": null,
       "nrows": 24,
       "prefix": "",
       "ascii": false,
       "unit": "it",
       "unit_scale": false,
       "rate": null,
       "bar_format": null,
       "postfix": null,
       "unit_divisor": 1000,
       "initial": 0,
       "colour": null
      }
     },
     "metadata": {},
     "output_type": "display_data"
    },
    {
     "data": {
      "text/plain": "  0%|          | 0/196 [00:00<?, ?it/s]",
      "application/vnd.jupyter.widget-view+json": {
       "version_major": 2,
       "version_minor": 0,
       "model_id": "af5f93dae2b3457e903d1ecb5d520fb6"
      },
      "application/json": {
       "n": 0,
       "total": 196,
       "elapsed": 0.012920141220092773,
       "ncols": null,
       "nrows": 24,
       "prefix": "",
       "ascii": false,
       "unit": "it",
       "unit_scale": false,
       "rate": null,
       "bar_format": null,
       "postfix": null,
       "unit_divisor": 1000,
       "initial": 0,
       "colour": null
      }
     },
     "metadata": {},
     "output_type": "display_data"
    },
    {
     "name": "stderr",
     "output_type": "stream",
     "text": [
      "wandb: ERROR Dropped streaming file chunk (see wandb/debug-internal.log)\n",
      "ERROR:root:dropped chunk 404 Client Error: Not Found for url: https://api.wandb.ai/files/j-bytes/adversarial-paper-ift6164/379k44go/file_stream\n",
      "NoneType: None\n"
     ]
    }
   ],
   "source": [
    "\n",
    "# If, images are normalized:\n",
    "# atk.set_normalization_used(mean=[...], std=[...])\n",
    "\n",
    "\n",
    "model1 = model1.to(device)\n",
    "model2 = model2.to(device)\n",
    "#train_loader.batch_size=128\n",
    "optimizer = torch.optim.AdamW(model1.parameters(),lr=1e-4)\n",
    "scheduler=torch.optim.lr_scheduler.OneCycleLR(optimizer,max_lr=1e-2,epochs=50,steps_per_epoch=len(test_loader))\n",
    "\n",
    "#atk.loss = torch.nn.MSELoss()\n",
    "mse = torch.nn.MSELoss()\n",
    "ce = torch.nn.CrossEntropyLoss()\n",
    "eps=0#0.01/256\n",
    "model1.train()\n",
    "model2.eval()\n",
    "wandb.config({\n",
    "    \"eps\" : eps,\n",
    "    \"model1\" : model1.default_cfg[\"architecture\"],\n",
    "    \"model2\" : model2.default_cfg[\"architecture\"],\n",
    "\n",
    "})\n",
    "wandb.watch(model1)\n",
    "wandb.watch(model2)\n",
    "for epoch in (pbar:=tqdm(range(0,50),leave=True,position=0)) :\n",
    "    running_loss=0\n",
    "    \n",
    "    #atk.loss = lambda pred,true : mse(torch.nn.functional.softmax(pred,dim=1).float(),torch.nn.functional.one_hot(true,10).float())\n",
    "    #atk.loss = lambda pred,true : ce(torch.nn.functional.softmax(pred,dim=1),true)\n",
    "    std_logits=None\n",
    "    sensitivity = torch.zeros((10,))\n",
    "    ex=0\n",
    "\n",
    "    accuracy1 = []\n",
    "    accuracy2 = []\n",
    "    for images,labels in tqdm(test_loader,position=1,leave=False) :\n",
    "        atk = torchattacks.PGD(model1, eps=eps, alpha=eps/3, steps=100)\n",
    "        #atk.loss = mse\n",
    "        images,labels = images.to(device,non_blocking=True),labels.to(device,non_blocking=True)\n",
    "\n",
    "\n",
    "\n",
    "\n",
    "\n",
    "        with torch.cuda.amp.autocast(enabled=True) :\n",
    "          with torch.no_grad() :\n",
    "              logit_model2_img        = model2(images).detach()\n",
    "                \n",
    "          adv_images = atk(images,labels)# logit_model2_img) # supposed to use labels! ->sensitibity 1.06 with eps=.01/256\n",
    "          adv_images = adv_images.to(device,non_blocking=True)\n",
    "\n",
    "          #logit_model1_img        = model1(images)\n",
    "          logit_model1_adv_img    = model1(adv_images)\n",
    "          with torch.no_grad() :\n",
    "              #logit_model2_img        = model2(images).detach()\n",
    "              logit_model2_adv_img    = model2(adv_images).detach()\n",
    "\n",
    "\n",
    "\n",
    "\n",
    "        loss = mse(logit_model2_adv_img,logit_model1_adv_img)#+mse(logit_model2_img,logit_model1_img)\n",
    "        #loss = ((logit_model2_adv_img-logit_model1_adv_img)**2).mean()\n",
    "\n",
    "        loss.backward()\n",
    "        optimizer.step()\n",
    "        scheduler.step()\n",
    "        optimizer.zero_grad()\n",
    "\n",
    "        running_loss+=loss.item()\n",
    "\n",
    "\n",
    "        if std_logits is None :\n",
    "            std_logits = logit_model2_img.to(\"cpu\",non_blocking=True)\n",
    "        else :\n",
    "            std_logits = torch.cat((std_logits,logit_model2_img.to(\"cpu\",non_blocking=True)),dim=0)\n",
    "\n",
    "\n",
    "        sensitivity += torch.mean(torch.abs(logit_model2_img-logit_model2_adv_img),dim=0).to(\"cpu\",non_blocking=True)\n",
    "        baseline  = (torch.argmax(torch.softmax(logit_model2_img,dim=1),dim=1) == labels).float().mean().round(decimals=2)\n",
    "        accuracy1.append( (torch.argmax(torch.softmax(logit_model1_adv_img,dim=1),dim=1) == labels).float().mean().round(decimals=2) )\n",
    "        accuracy2.append( (torch.argmax(torch.softmax(logit_model2_adv_img,dim=1),dim=1) == labels).float().mean().round(decimals=2) )\n",
    "\n",
    "    pbar.set_description(f\"Sensitivity : {torch.mean(sensitivity/len(test_loader)/torch.abs(std_logits)).round(decimals=2)} ,  loss : {round(loss.item(),ndigits=2)} , acc1 : {accuracy1} , acc2 : {accuracy2} , baseline : {baseline}\")\n",
    "\n",
    "    metrics = {\n",
    "        \"sensitivity\"   : torch.mean(sensitivity/len(test_loader)/torch.abs(std_logits)).round(decimals=2),\n",
    "        \"loss\"          : running_loss/len(test_loader),\n",
    "        \"accuracy1\"     : np.mean(accuracy1),\n",
    "        \"accuracy2\"     : np.mean(accuracy2)\n",
    "    }\n",
    "    wandb.log(metrics,epoch=epoch)\n",
    "\n",
    "\n",
    "        #adv_pred = torch.softmax(model1(adv_images),dim=1)\n",
    "\n",
    "\n"
   ]
  },
  {
   "cell_type": "code",
   "execution_count": 23,
   "metadata": {},
   "outputs": [
    {
     "data": {
      "text/plain": "<IPython.core.display.HTML object>",
      "text/html": "Finishing last run (ID:379k44go) before initializing another..."
     },
     "metadata": {},
     "output_type": "display_data"
    },
    {
     "data": {
      "text/plain": "<IPython.core.display.HTML object>",
      "text/html": "Successfully finished last run (ID:379k44go). Initializing new run:<br/>"
     },
     "metadata": {},
     "output_type": "display_data"
    },
    {
     "data": {
      "text/plain": "<IPython.core.display.HTML object>",
      "text/html": "wandb version 0.13.9 is available!  To upgrade, please run:\n $ pip install wandb --upgrade"
     },
     "metadata": {},
     "output_type": "display_data"
    },
    {
     "data": {
      "text/plain": "<IPython.core.display.HTML object>",
      "text/html": "Tracking run with wandb version 0.12.21"
     },
     "metadata": {},
     "output_type": "display_data"
    },
    {
     "data": {
      "text/plain": "<IPython.core.display.HTML object>",
      "text/html": "Run data is saved locally in <code>/data/home/jonathan/IA-MED_IMG/wandb/run-20230127_164839-35sq8dxk</code>"
     },
     "metadata": {},
     "output_type": "display_data"
    },
    {
     "data": {
      "text/plain": "<IPython.core.display.HTML object>",
      "text/html": "Syncing run <strong><a href=\"https://wandb.ai/j-bytes/adversarial-paper-ift6164/runs/35sq8dxk\" target=\"_blank\">crimson-rabbit-10</a></strong> to <a href=\"https://wandb.ai/j-bytes/adversarial-paper-ift6164\" target=\"_blank\">Weights & Biases</a> (<a href=\"https://wandb.me/run\" target=\"_blank\">docs</a>)<br/>"
     },
     "metadata": {},
     "output_type": "display_data"
    },
    {
     "data": {
      "text/plain": "  0%|          | 0/50 [00:00<?, ?it/s]",
      "application/vnd.jupyter.widget-view+json": {
       "version_major": 2,
       "version_minor": 0,
       "model_id": "754fd28aa4954e2b84f9b0d1bfe98326"
      },
      "application/json": {
       "n": 0,
       "total": 50,
       "elapsed": 0.012714624404907227,
       "ncols": null,
       "nrows": 24,
       "prefix": "",
       "ascii": false,
       "unit": "it",
       "unit_scale": false,
       "rate": null,
       "bar_format": null,
       "postfix": null,
       "unit_divisor": 1000,
       "initial": 0,
       "colour": null
      }
     },
     "metadata": {},
     "output_type": "display_data"
    },
    {
     "data": {
      "text/plain": "  0%|          | 0/40 [00:00<?, ?it/s]",
      "application/vnd.jupyter.widget-view+json": {
       "version_major": 2,
       "version_minor": 0,
       "model_id": "c79b22a2065645348a2fbf3fa51cb1b4"
      },
      "application/json": {
       "n": 0,
       "total": 40,
       "elapsed": 0.011890411376953125,
       "ncols": null,
       "nrows": 24,
       "prefix": "",
       "ascii": false,
       "unit": "it",
       "unit_scale": false,
       "rate": null,
       "bar_format": null,
       "postfix": null,
       "unit_divisor": 1000,
       "initial": 0,
       "colour": null
      }
     },
     "metadata": {},
     "output_type": "display_data"
    },
    {
     "data": {
      "text/plain": "  0%|          | 0/40 [00:00<?, ?it/s]",
      "application/vnd.jupyter.widget-view+json": {
       "version_major": 2,
       "version_minor": 0,
       "model_id": "7705406336404ae49b8aa9d8a7890944"
      },
      "application/json": {
       "n": 0,
       "total": 40,
       "elapsed": 0.013423681259155273,
       "ncols": null,
       "nrows": 24,
       "prefix": "",
       "ascii": false,
       "unit": "it",
       "unit_scale": false,
       "rate": null,
       "bar_format": null,
       "postfix": null,
       "unit_divisor": 1000,
       "initial": 0,
       "colour": null
      }
     },
     "metadata": {},
     "output_type": "display_data"
    },
    {
     "data": {
      "text/plain": "  0%|          | 0/40 [00:00<?, ?it/s]",
      "application/vnd.jupyter.widget-view+json": {
       "version_major": 2,
       "version_minor": 0,
       "model_id": "57ae1bd3eae34fbd9a18b4940c63fe73"
      },
      "application/json": {
       "n": 0,
       "total": 40,
       "elapsed": 0.013548135757446289,
       "ncols": null,
       "nrows": 24,
       "prefix": "",
       "ascii": false,
       "unit": "it",
       "unit_scale": false,
       "rate": null,
       "bar_format": null,
       "postfix": null,
       "unit_divisor": 1000,
       "initial": 0,
       "colour": null
      }
     },
     "metadata": {},
     "output_type": "display_data"
    },
    {
     "data": {
      "text/plain": "  0%|          | 0/40 [00:00<?, ?it/s]",
      "application/vnd.jupyter.widget-view+json": {
       "version_major": 2,
       "version_minor": 0,
       "model_id": "ac54e730695d441dbf3b2ce3dcf59b7e"
      },
      "application/json": {
       "n": 0,
       "total": 40,
       "elapsed": 0.012942314147949219,
       "ncols": null,
       "nrows": 24,
       "prefix": "",
       "ascii": false,
       "unit": "it",
       "unit_scale": false,
       "rate": null,
       "bar_format": null,
       "postfix": null,
       "unit_divisor": 1000,
       "initial": 0,
       "colour": null
      }
     },
     "metadata": {},
     "output_type": "display_data"
    },
    {
     "data": {
      "text/plain": "  0%|          | 0/40 [00:00<?, ?it/s]",
      "application/vnd.jupyter.widget-view+json": {
       "version_major": 2,
       "version_minor": 0,
       "model_id": "1748f1fd5ffa4b7888cc70902a97c3e0"
      },
      "application/json": {
       "n": 0,
       "total": 40,
       "elapsed": 0.013672113418579102,
       "ncols": null,
       "nrows": 24,
       "prefix": "",
       "ascii": false,
       "unit": "it",
       "unit_scale": false,
       "rate": null,
       "bar_format": null,
       "postfix": null,
       "unit_divisor": 1000,
       "initial": 0,
       "colour": null
      }
     },
     "metadata": {},
     "output_type": "display_data"
    },
    {
     "data": {
      "text/plain": "  0%|          | 0/40 [00:00<?, ?it/s]",
      "application/vnd.jupyter.widget-view+json": {
       "version_major": 2,
       "version_minor": 0,
       "model_id": "0b5451201cff49bb8e0ff6875d80c1f9"
      },
      "application/json": {
       "n": 0,
       "total": 40,
       "elapsed": 0.013568878173828125,
       "ncols": null,
       "nrows": 24,
       "prefix": "",
       "ascii": false,
       "unit": "it",
       "unit_scale": false,
       "rate": null,
       "bar_format": null,
       "postfix": null,
       "unit_divisor": 1000,
       "initial": 0,
       "colour": null
      }
     },
     "metadata": {},
     "output_type": "display_data"
    },
    {
     "data": {
      "text/plain": "  0%|          | 0/40 [00:00<?, ?it/s]",
      "application/vnd.jupyter.widget-view+json": {
       "version_major": 2,
       "version_minor": 0,
       "model_id": "d5216ca4cc06460f9bb04eb3c412edda"
      },
      "application/json": {
       "n": 0,
       "total": 40,
       "elapsed": 0.013593673706054688,
       "ncols": null,
       "nrows": 24,
       "prefix": "",
       "ascii": false,
       "unit": "it",
       "unit_scale": false,
       "rate": null,
       "bar_format": null,
       "postfix": null,
       "unit_divisor": 1000,
       "initial": 0,
       "colour": null
      }
     },
     "metadata": {},
     "output_type": "display_data"
    },
    {
     "data": {
      "text/plain": "  0%|          | 0/40 [00:00<?, ?it/s]",
      "application/vnd.jupyter.widget-view+json": {
       "version_major": 2,
       "version_minor": 0,
       "model_id": "39d140df107047f39589ae80bd681f21"
      },
      "application/json": {
       "n": 0,
       "total": 40,
       "elapsed": 0.013625621795654297,
       "ncols": null,
       "nrows": 24,
       "prefix": "",
       "ascii": false,
       "unit": "it",
       "unit_scale": false,
       "rate": null,
       "bar_format": null,
       "postfix": null,
       "unit_divisor": 1000,
       "initial": 0,
       "colour": null
      }
     },
     "metadata": {},
     "output_type": "display_data"
    },
    {
     "data": {
      "text/plain": "  0%|          | 0/40 [00:00<?, ?it/s]",
      "application/vnd.jupyter.widget-view+json": {
       "version_major": 2,
       "version_minor": 0,
       "model_id": "ba06cf1d9b37450d9e1cbf4c8436e80c"
      },
      "application/json": {
       "n": 0,
       "total": 40,
       "elapsed": 0.01351022720336914,
       "ncols": null,
       "nrows": 24,
       "prefix": "",
       "ascii": false,
       "unit": "it",
       "unit_scale": false,
       "rate": null,
       "bar_format": null,
       "postfix": null,
       "unit_divisor": 1000,
       "initial": 0,
       "colour": null
      }
     },
     "metadata": {},
     "output_type": "display_data"
    },
    {
     "data": {
      "text/plain": "  0%|          | 0/40 [00:00<?, ?it/s]",
      "application/vnd.jupyter.widget-view+json": {
       "version_major": 2,
       "version_minor": 0,
       "model_id": "89bf29b1378c49bab3fc78cdfbba04db"
      },
      "application/json": {
       "n": 0,
       "total": 40,
       "elapsed": 0.013679265975952148,
       "ncols": null,
       "nrows": 24,
       "prefix": "",
       "ascii": false,
       "unit": "it",
       "unit_scale": false,
       "rate": null,
       "bar_format": null,
       "postfix": null,
       "unit_divisor": 1000,
       "initial": 0,
       "colour": null
      }
     },
     "metadata": {},
     "output_type": "display_data"
    },
    {
     "data": {
      "text/plain": "  0%|          | 0/40 [00:00<?, ?it/s]",
      "application/vnd.jupyter.widget-view+json": {
       "version_major": 2,
       "version_minor": 0,
       "model_id": "88a1dcba5f19498795d1a51fec0200a9"
      },
      "application/json": {
       "n": 0,
       "total": 40,
       "elapsed": 0.013585567474365234,
       "ncols": null,
       "nrows": 24,
       "prefix": "",
       "ascii": false,
       "unit": "it",
       "unit_scale": false,
       "rate": null,
       "bar_format": null,
       "postfix": null,
       "unit_divisor": 1000,
       "initial": 0,
       "colour": null
      }
     },
     "metadata": {},
     "output_type": "display_data"
    },
    {
     "data": {
      "text/plain": "  0%|          | 0/40 [00:00<?, ?it/s]",
      "application/vnd.jupyter.widget-view+json": {
       "version_major": 2,
       "version_minor": 0,
       "model_id": "9bf3b10e931a4e0da795d0113d62f9cb"
      },
      "application/json": {
       "n": 0,
       "total": 40,
       "elapsed": 0.013612508773803711,
       "ncols": null,
       "nrows": 24,
       "prefix": "",
       "ascii": false,
       "unit": "it",
       "unit_scale": false,
       "rate": null,
       "bar_format": null,
       "postfix": null,
       "unit_divisor": 1000,
       "initial": 0,
       "colour": null
      }
     },
     "metadata": {},
     "output_type": "display_data"
    },
    {
     "data": {
      "text/plain": "  0%|          | 0/40 [00:00<?, ?it/s]",
      "application/vnd.jupyter.widget-view+json": {
       "version_major": 2,
       "version_minor": 0,
       "model_id": "78adfe7734d74a328bb5b69b3c131e57"
      },
      "application/json": {
       "n": 0,
       "total": 40,
       "elapsed": 0.013766288757324219,
       "ncols": null,
       "nrows": 24,
       "prefix": "",
       "ascii": false,
       "unit": "it",
       "unit_scale": false,
       "rate": null,
       "bar_format": null,
       "postfix": null,
       "unit_divisor": 1000,
       "initial": 0,
       "colour": null
      }
     },
     "metadata": {},
     "output_type": "display_data"
    },
    {
     "data": {
      "text/plain": "  0%|          | 0/40 [00:00<?, ?it/s]",
      "application/vnd.jupyter.widget-view+json": {
       "version_major": 2,
       "version_minor": 0,
       "model_id": "b1ce77417df34c93a976309100dc95e4"
      },
      "application/json": {
       "n": 0,
       "total": 40,
       "elapsed": 0.01352834701538086,
       "ncols": null,
       "nrows": 24,
       "prefix": "",
       "ascii": false,
       "unit": "it",
       "unit_scale": false,
       "rate": null,
       "bar_format": null,
       "postfix": null,
       "unit_divisor": 1000,
       "initial": 0,
       "colour": null
      }
     },
     "metadata": {},
     "output_type": "display_data"
    },
    {
     "data": {
      "text/plain": "  0%|          | 0/40 [00:00<?, ?it/s]",
      "application/vnd.jupyter.widget-view+json": {
       "version_major": 2,
       "version_minor": 0,
       "model_id": "0c1964be38c1435087c495eead90e49b"
      },
      "application/json": {
       "n": 0,
       "total": 40,
       "elapsed": 0.013563156127929688,
       "ncols": null,
       "nrows": 24,
       "prefix": "",
       "ascii": false,
       "unit": "it",
       "unit_scale": false,
       "rate": null,
       "bar_format": null,
       "postfix": null,
       "unit_divisor": 1000,
       "initial": 0,
       "colour": null
      }
     },
     "metadata": {},
     "output_type": "display_data"
    },
    {
     "data": {
      "text/plain": "  0%|          | 0/40 [00:00<?, ?it/s]",
      "application/vnd.jupyter.widget-view+json": {
       "version_major": 2,
       "version_minor": 0,
       "model_id": "758fd1a162f04ad2b3ff5e08934247e1"
      },
      "application/json": {
       "n": 0,
       "total": 40,
       "elapsed": 0.013497352600097656,
       "ncols": null,
       "nrows": 24,
       "prefix": "",
       "ascii": false,
       "unit": "it",
       "unit_scale": false,
       "rate": null,
       "bar_format": null,
       "postfix": null,
       "unit_divisor": 1000,
       "initial": 0,
       "colour": null
      }
     },
     "metadata": {},
     "output_type": "display_data"
    },
    {
     "data": {
      "text/plain": "  0%|          | 0/40 [00:00<?, ?it/s]",
      "application/vnd.jupyter.widget-view+json": {
       "version_major": 2,
       "version_minor": 0,
       "model_id": "9ccaad3292224f889d667e203c1bcad4"
      },
      "application/json": {
       "n": 0,
       "total": 40,
       "elapsed": 0.013660430908203125,
       "ncols": null,
       "nrows": 24,
       "prefix": "",
       "ascii": false,
       "unit": "it",
       "unit_scale": false,
       "rate": null,
       "bar_format": null,
       "postfix": null,
       "unit_divisor": 1000,
       "initial": 0,
       "colour": null
      }
     },
     "metadata": {},
     "output_type": "display_data"
    },
    {
     "data": {
      "text/plain": "  0%|          | 0/40 [00:00<?, ?it/s]",
      "application/vnd.jupyter.widget-view+json": {
       "version_major": 2,
       "version_minor": 0,
       "model_id": "b6554f1e97ae45969384c4b296a9047d"
      },
      "application/json": {
       "n": 0,
       "total": 40,
       "elapsed": 0.013543128967285156,
       "ncols": null,
       "nrows": 24,
       "prefix": "",
       "ascii": false,
       "unit": "it",
       "unit_scale": false,
       "rate": null,
       "bar_format": null,
       "postfix": null,
       "unit_divisor": 1000,
       "initial": 0,
       "colour": null
      }
     },
     "metadata": {},
     "output_type": "display_data"
    },
    {
     "data": {
      "text/plain": "  0%|          | 0/40 [00:00<?, ?it/s]",
      "application/vnd.jupyter.widget-view+json": {
       "version_major": 2,
       "version_minor": 0,
       "model_id": "6b20b3b5c1bb4d4db521cb36077ff4de"
      },
      "application/json": {
       "n": 0,
       "total": 40,
       "elapsed": 0.013619422912597656,
       "ncols": null,
       "nrows": 24,
       "prefix": "",
       "ascii": false,
       "unit": "it",
       "unit_scale": false,
       "rate": null,
       "bar_format": null,
       "postfix": null,
       "unit_divisor": 1000,
       "initial": 0,
       "colour": null
      }
     },
     "metadata": {},
     "output_type": "display_data"
    },
    {
     "data": {
      "text/plain": "  0%|          | 0/40 [00:00<?, ?it/s]",
      "application/vnd.jupyter.widget-view+json": {
       "version_major": 2,
       "version_minor": 0,
       "model_id": "4837dc8779b043a79d2e15978a9cee5e"
      },
      "application/json": {
       "n": 0,
       "total": 40,
       "elapsed": 0.013566970825195312,
       "ncols": null,
       "nrows": 24,
       "prefix": "",
       "ascii": false,
       "unit": "it",
       "unit_scale": false,
       "rate": null,
       "bar_format": null,
       "postfix": null,
       "unit_divisor": 1000,
       "initial": 0,
       "colour": null
      }
     },
     "metadata": {},
     "output_type": "display_data"
    },
    {
     "data": {
      "text/plain": "  0%|          | 0/40 [00:00<?, ?it/s]",
      "application/vnd.jupyter.widget-view+json": {
       "version_major": 2,
       "version_minor": 0,
       "model_id": "1e77e66b2c744a1b981b2e4c9094dfc2"
      },
      "application/json": {
       "n": 0,
       "total": 40,
       "elapsed": 0.013574361801147461,
       "ncols": null,
       "nrows": 24,
       "prefix": "",
       "ascii": false,
       "unit": "it",
       "unit_scale": false,
       "rate": null,
       "bar_format": null,
       "postfix": null,
       "unit_divisor": 1000,
       "initial": 0,
       "colour": null
      }
     },
     "metadata": {},
     "output_type": "display_data"
    },
    {
     "data": {
      "text/plain": "  0%|          | 0/40 [00:00<?, ?it/s]",
      "application/vnd.jupyter.widget-view+json": {
       "version_major": 2,
       "version_minor": 0,
       "model_id": "e126b56f507c4a91903415f6485f1a86"
      },
      "application/json": {
       "n": 0,
       "total": 40,
       "elapsed": 0.013464212417602539,
       "ncols": null,
       "nrows": 24,
       "prefix": "",
       "ascii": false,
       "unit": "it",
       "unit_scale": false,
       "rate": null,
       "bar_format": null,
       "postfix": null,
       "unit_divisor": 1000,
       "initial": 0,
       "colour": null
      }
     },
     "metadata": {},
     "output_type": "display_data"
    },
    {
     "ename": "KeyboardInterrupt",
     "evalue": "",
     "output_type": "error",
     "traceback": [
      "\u001B[0;31m---------------------------------------------------------------------------\u001B[0m",
      "\u001B[0;31mKeyboardInterrupt\u001B[0m                         Traceback (most recent call last)",
      "Input \u001B[0;32mIn [23]\u001B[0m, in \u001B[0;36m<cell line: 30>\u001B[0;34m()\u001B[0m\n\u001B[1;32m     51\u001B[0m \u001B[38;5;28;01mwith\u001B[39;00m torch\u001B[38;5;241m.\u001B[39mno_grad() :\n\u001B[1;32m     52\u001B[0m     logit_model2_img        \u001B[38;5;241m=\u001B[39m model2(images)\u001B[38;5;241m.\u001B[39mdetach()\n\u001B[0;32m---> 54\u001B[0m adv_images \u001B[38;5;241m=\u001B[39m \u001B[43matk\u001B[49m\u001B[43m(\u001B[49m\u001B[43mimages\u001B[49m\u001B[43m,\u001B[49m\u001B[43mlabels\u001B[49m\u001B[43m)\u001B[49m\u001B[38;5;66;03m# logit_model2_img) # supposed to use labels! ->sensitibity 1.06 with eps=.01/256\u001B[39;00m\n\u001B[1;32m     55\u001B[0m adv_images \u001B[38;5;241m=\u001B[39m adv_images\u001B[38;5;241m.\u001B[39mto(device,non_blocking\u001B[38;5;241m=\u001B[39m\u001B[38;5;28;01mTrue\u001B[39;00m)\n\u001B[1;32m     57\u001B[0m \u001B[38;5;66;03m#logit_model1_img        = model1(images)\u001B[39;00m\n",
      "File \u001B[0;32m/data/home/jonathan/IA-MED_IMG/venv/lib/python3.9/site-packages/torchattacks/attack.py:429\u001B[0m, in \u001B[0;36mAttack.__call__\u001B[0;34m(self, inputs, labels, *args, **kwargs)\u001B[0m\n\u001B[1;32m    427\u001B[0m     \u001B[38;5;28mself\u001B[39m\u001B[38;5;241m.\u001B[39m_set_normalization_applied(\u001B[38;5;28;01mTrue\u001B[39;00m)\n\u001B[1;32m    428\u001B[0m \u001B[38;5;28;01melse\u001B[39;00m:\n\u001B[0;32m--> 429\u001B[0m     adv_inputs \u001B[38;5;241m=\u001B[39m \u001B[38;5;28;43mself\u001B[39;49m\u001B[38;5;241;43m.\u001B[39;49m\u001B[43mforward\u001B[49m\u001B[43m(\u001B[49m\u001B[43minputs\u001B[49m\u001B[43m,\u001B[49m\u001B[43m \u001B[49m\u001B[43mlabels\u001B[49m\u001B[43m,\u001B[49m\u001B[43m \u001B[49m\u001B[38;5;241;43m*\u001B[39;49m\u001B[43margs\u001B[49m\u001B[43m,\u001B[49m\u001B[43m \u001B[49m\u001B[38;5;241;43m*\u001B[39;49m\u001B[38;5;241;43m*\u001B[39;49m\u001B[43mkwargs\u001B[49m\u001B[43m)\u001B[49m\n\u001B[1;32m    430\u001B[0m     adv_inputs \u001B[38;5;241m=\u001B[39m \u001B[38;5;28mself\u001B[39m\u001B[38;5;241m.\u001B[39mto_type(adv_inputs, \u001B[38;5;28mself\u001B[39m\u001B[38;5;241m.\u001B[39mreturn_type)\n\u001B[1;32m    432\u001B[0m \u001B[38;5;28mself\u001B[39m\u001B[38;5;241m.\u001B[39m_recover_model_mode(given_training)\n",
      "File \u001B[0;32m/data/home/jonathan/IA-MED_IMG/venv/lib/python3.9/site-packages/torchattacks/attacks/pgd.py:70\u001B[0m, in \u001B[0;36mPGD.forward\u001B[0;34m(self, images, labels)\u001B[0m\n\u001B[1;32m     67\u001B[0m     cost \u001B[38;5;241m=\u001B[39m loss(outputs, labels)\n\u001B[1;32m     69\u001B[0m \u001B[38;5;66;03m# Update adversarial images\u001B[39;00m\n\u001B[0;32m---> 70\u001B[0m grad \u001B[38;5;241m=\u001B[39m \u001B[43mtorch\u001B[49m\u001B[38;5;241;43m.\u001B[39;49m\u001B[43mautograd\u001B[49m\u001B[38;5;241;43m.\u001B[39;49m\u001B[43mgrad\u001B[49m\u001B[43m(\u001B[49m\u001B[43mcost\u001B[49m\u001B[43m,\u001B[49m\u001B[43m \u001B[49m\u001B[43madv_images\u001B[49m\u001B[43m,\u001B[49m\n\u001B[1;32m     71\u001B[0m \u001B[43m                           \u001B[49m\u001B[43mretain_graph\u001B[49m\u001B[38;5;241;43m=\u001B[39;49m\u001B[38;5;28;43;01mFalse\u001B[39;49;00m\u001B[43m,\u001B[49m\u001B[43m \u001B[49m\u001B[43mcreate_graph\u001B[49m\u001B[38;5;241;43m=\u001B[39;49m\u001B[38;5;28;43;01mFalse\u001B[39;49;00m\u001B[43m)\u001B[49m[\u001B[38;5;241m0\u001B[39m]\n\u001B[1;32m     73\u001B[0m adv_images \u001B[38;5;241m=\u001B[39m adv_images\u001B[38;5;241m.\u001B[39mdetach() \u001B[38;5;241m+\u001B[39m \u001B[38;5;28mself\u001B[39m\u001B[38;5;241m.\u001B[39malpha\u001B[38;5;241m*\u001B[39mgrad\u001B[38;5;241m.\u001B[39msign()\n\u001B[1;32m     74\u001B[0m delta \u001B[38;5;241m=\u001B[39m torch\u001B[38;5;241m.\u001B[39mclamp(adv_images \u001B[38;5;241m-\u001B[39m images, \u001B[38;5;28mmin\u001B[39m\u001B[38;5;241m=\u001B[39m\u001B[38;5;241m-\u001B[39m\u001B[38;5;28mself\u001B[39m\u001B[38;5;241m.\u001B[39meps, \u001B[38;5;28mmax\u001B[39m\u001B[38;5;241m=\u001B[39m\u001B[38;5;28mself\u001B[39m\u001B[38;5;241m.\u001B[39meps)\n",
      "File \u001B[0;32m/data/home/jonathan/IA-MED_IMG/venv/lib/python3.9/site-packages/torch/autograd/__init__.py:276\u001B[0m, in \u001B[0;36mgrad\u001B[0;34m(outputs, inputs, grad_outputs, retain_graph, create_graph, only_inputs, allow_unused, is_grads_batched)\u001B[0m\n\u001B[1;32m    274\u001B[0m     \u001B[38;5;28;01mreturn\u001B[39;00m _vmap_internals\u001B[38;5;241m.\u001B[39m_vmap(vjp, \u001B[38;5;241m0\u001B[39m, \u001B[38;5;241m0\u001B[39m, allow_none_pass_through\u001B[38;5;241m=\u001B[39m\u001B[38;5;28;01mTrue\u001B[39;00m)(grad_outputs_)\n\u001B[1;32m    275\u001B[0m \u001B[38;5;28;01melse\u001B[39;00m:\n\u001B[0;32m--> 276\u001B[0m     \u001B[38;5;28;01mreturn\u001B[39;00m \u001B[43mVariable\u001B[49m\u001B[38;5;241;43m.\u001B[39;49m\u001B[43m_execution_engine\u001B[49m\u001B[38;5;241;43m.\u001B[39;49m\u001B[43mrun_backward\u001B[49m\u001B[43m(\u001B[49m\u001B[43m  \u001B[49m\u001B[38;5;66;43;03m# Calls into the C++ engine to run the backward pass\u001B[39;49;00m\n\u001B[1;32m    277\u001B[0m \u001B[43m        \u001B[49m\u001B[43mt_outputs\u001B[49m\u001B[43m,\u001B[49m\u001B[43m \u001B[49m\u001B[43mgrad_outputs_\u001B[49m\u001B[43m,\u001B[49m\u001B[43m \u001B[49m\u001B[43mretain_graph\u001B[49m\u001B[43m,\u001B[49m\u001B[43m \u001B[49m\u001B[43mcreate_graph\u001B[49m\u001B[43m,\u001B[49m\u001B[43m \u001B[49m\u001B[43mt_inputs\u001B[49m\u001B[43m,\u001B[49m\n\u001B[1;32m    278\u001B[0m \u001B[43m        \u001B[49m\u001B[43mallow_unused\u001B[49m\u001B[43m,\u001B[49m\u001B[43m \u001B[49m\u001B[43maccumulate_grad\u001B[49m\u001B[38;5;241;43m=\u001B[39;49m\u001B[38;5;28;43;01mFalse\u001B[39;49;00m\u001B[43m)\u001B[49m\n",
      "\u001B[0;31mKeyboardInterrupt\u001B[0m: "
     ]
    }
   ],
   "source": []
  },
  {
   "cell_type": "code",
   "execution_count": null,
   "metadata": {},
   "outputs": [],
   "source": []
  }
 ],
 "metadata": {
  "kernelspec": {
   "display_name": "Python 3 (ipykernel)",
   "language": "python",
   "name": "python3"
  },
  "language_info": {
   "codemirror_mode": {
    "name": "ipython",
    "version": 3
   },
   "file_extension": ".py",
   "mimetype": "text/x-python",
   "name": "python",
   "nbconvert_exporter": "python",
   "pygments_lexer": "ipython3",
   "version": "3.8.10"
  }
 },
 "nbformat": 4,
 "nbformat_minor": 1
}
