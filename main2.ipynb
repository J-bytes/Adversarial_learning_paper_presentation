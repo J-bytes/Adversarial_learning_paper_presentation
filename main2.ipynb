{
 "cells": [
  {
   "cell_type": "code",
   "execution_count": 1,
   "outputs": [],
   "source": [
    "import os\n",
    "import timm\n",
    "import torch\n",
    "from torch.utils.data import DataLoader\n",
    "import numpy as np\n",
    "import wandb\n",
    "\n",
    "import torchattacks\n",
    "import torchvision.transforms as transforms\n",
    "from torchvision import datasets\n",
    "import albumentations as A\n",
    "from torchvision.transforms import ToTensor\n",
    "import matplotlib.pyplot as plt\n",
    "from utils import training_loop,validation_loop,randAugment\n",
    "from tqdm.notebook import tqdm\n",
    "from torch.utils.data import Dataset\n",
    "device= \"cuda\" if torch.cuda.is_available() else \"cpu\"\n",
    "names = [\"airplane\",\"automobile\",\"bird\",\"cat\",\"deer\",\"dog\",\"frog\",\"horse\",\"ship\",\"truck\"]\n",
    "num_classes=len(names)"
   ],
   "metadata": {
    "collapsed": false
   }
  },
  {
   "cell_type": "code",
   "execution_count": 2,
   "metadata": {},
   "outputs": [
    {
     "name": "stdout",
     "output_type": "stream",
     "text": [
      "Files already downloaded and verified\n",
      "Files already downloaded and verified\n"
     ]
    }
   ],
   "source": [
    "import torchattacks\n",
    "mean = (0.485, 0.456, 0.406)\n",
    "std = (0.229, 0.224, 0.225)\n",
    "\n",
    "model1 = timm.create_model(\"resnext50_32x4d\",pretrained=True,num_classes=num_classes).to(device) #trained on imagenet\n",
    "model2 = timm.create_model(\"convnext_small\",pretrained=True,num_classes=num_classes).to(device) # will be trained on cifar10\n",
    "\n",
    "#ops = randAugment(N=2,M=5,p=0.5,mode=\"all\",cut_out=True)\n",
    "train_transform=transforms.Compose(\n",
    "    [\n",
    "        #transforms.RandAugment(num_ops=5,magnitude=2),\n",
    "\n",
    "        transforms.RandomHorizontalFlip(),\n",
    "        transforms.RandomCrop(32, padding=4),\n",
    "        transforms.ColorJitter(brightness=0.2, contrast=0.2, saturation=0.2),\n",
    "        transforms.ToTensor(),\n",
    "        transforms.Normalize(mean,std)\n",
    "    ]\n",
    ")\n",
    "\n",
    "val_transform=transforms.Compose(\n",
    "    [\n",
    "                transforms.Resize(32),\n",
    "                transforms.CenterCrop(32),\n",
    "                transforms.ToTensor(),\n",
    "                transforms.Normalize(mean, std),\n",
    "    ]\n",
    ")\n",
    "\n",
    "def target_transform(label) :\n",
    "     label_vector = torch.zeros((num_classes))\n",
    "     label_vector[label]=1\n",
    "     return label_vector\n",
    "\n",
    "# class Cifar10SearchDataset(datasets.CIFAR10):\n",
    "#     def __init__(self, root=\"~/data/cifar10\", train=True, download=True, transform=None):\n",
    "#         super().__init__(root=root, train=train, download=download, transform=transform)\n",
    "#\n",
    "#     def __getitem__(self, index):\n",
    "#         image, label = self.data[index], self.targets[index]\n",
    "#\n",
    "#         if self.transform is not None:\n",
    "#             transformed = self.transform(image=image)\n",
    "#             image = transformed[\"image\"]\n",
    "#\n",
    "#         return image, label\n",
    "training_data = datasets.CIFAR10(\n",
    "    root=\"data\",\n",
    "    train=True,\n",
    "    download=True,\n",
    "    transform=train_transform,\n",
    "    #target_transform=target_transform\n",
    "\n",
    ")\n",
    "\n",
    "test_data = datasets.CIFAR10(\n",
    "    root=\"data\",\n",
    "    train=False,\n",
    "    download=True,\n",
    "    transform=val_transform,\n",
    "    #target_transform=target_transform\n",
    "\n",
    ")\n",
    "\n",
    "\n",
    "\n"
   ]
  },
  {
   "cell_type": "code",
   "execution_count": 3,
   "metadata": {},
   "outputs": [],
   "source": [
    "train_loader = DataLoader(\n",
    "    training_data,\n",
    "    num_workers=8,\n",
    "    batch_size=256,\n",
    "    shuffle=True\n",
    ")\n",
    "test_loader= DataLoader(\n",
    "    test_data,\n",
    "    num_workers=8,\n",
    "    batch_size=256\n",
    ")"
   ]
  },
  {
   "cell_type": "code",
   "execution_count": 4,
   "metadata": {},
   "outputs": [
    {
     "name": "stdout",
     "output_type": "stream",
     "text": [
      "Model : convnext_small , Accuracy : 0.9159\n",
      "Model : resnext50_32x4d , Accuracy : 0.8743\n"
     ]
    }
   ],
   "source": [
    "\n",
    "metrics = {\n",
    "    \"accuracy\" : [],\n",
    "    \"train_loss\" : [],\n",
    "    \"val_loss\" : [],\n",
    "}\n",
    "keep_training=False\n",
    "criterion = lambda  pred, true : torch.nn.functional.cross_entropy(torch.softmax(pred,dim=1),true)\n",
    "for model in  [model2,model1] :\n",
    "    if os.path.exists(f\"{model.default_cfg['architecture']}.pt\") :\n",
    "        model.load_state_dict(torch.load(f\"{model.default_cfg['architecture']}.pt\"))\n",
    "        model = model.to(device)\n",
    "        val_loss,results = validation_loop(model,test_loader,criterion,device,autocast=False)\n",
    "        accuracy = (results[0].cpu().numpy()== np.argmax(torch.softmax(results[1].cpu(),dim=1).numpy(),axis=1)).mean()\n",
    "        print(f\"Model : {model.default_cfg['architecture']} , Accuracy : {accuracy}\")\n",
    "    else :\n",
    "        accuracy=0\n",
    "    if keep_training and accuracy<0.90 :\n",
    "        optimizer = torch.optim.AdamW(model.parameters(),lr=1e-4,weight_decay=1e-3)\n",
    "\n",
    "\n",
    "        scaler = torch.cuda.amp.GradScaler()\n",
    "        max_epoch = 30\n",
    "        scheduler=torch.optim.lr_scheduler.OneCycleLR(max_lr=1e-4,optimizer=optimizer,epochs=max_epoch,steps_per_epoch=len(train_loader))\n",
    "\n",
    "        for epoch in (pbar:=tqdm(range(0,max_epoch),position=0,leave=True)) :\n",
    "            loss = training_loop(model,tqdm(train_loader,position=1,leave=False),optimizer=optimizer,criterion=criterion,device=device,scaler=scaler,clip_norm=0,autocast=False,scheduler=scheduler,epoch=max_epoch)\n",
    "\n",
    "            val_loss,results = validation_loop(model,test_loader,criterion,device,autocast=True)\n",
    "            accuracy = (results[0].cpu().numpy()== np.argmax(torch.softmax(results[1].cpu(),dim=1).numpy(),axis=1)).mean()\n",
    "            pbar.set_description(f\"Training loss : {loss/len(train_loader)} ,  validation loss : {val_loss/len(test_loader)} , accuracy : {accuracy}\")\n",
    "            metrics[\"accuracy\"].append(accuracy)\n",
    "            metrics[\"train_loss\"].append(loss/len(train_loader))\n",
    "            metrics[\"val_loss\"].append(val_loss/len(test_loader))\n",
    "\n",
    "\n",
    "        torch.save(model.state_dict(), f\"{model.default_cfg['architecture']}.pt\")\n",
    "        model.to(\"cpu\")\n",
    "\n"
   ]
  },
  {
   "cell_type": "code",
   "execution_count": 5,
   "metadata": {},
   "outputs": [
    {
     "name": "stderr",
     "output_type": "stream",
     "text": [
      "\u001B[34m\u001B[1mwandb\u001B[0m: Currently logged in as: \u001B[33mj-bytes\u001B[0m. Use \u001B[1m`wandb login --relogin`\u001B[0m to force relogin\n"
     ]
    },
    {
     "data": {
      "text/plain": "<IPython.core.display.HTML object>",
      "text/html": "Tracking run with wandb version 0.13.9"
     },
     "metadata": {},
     "output_type": "display_data"
    },
    {
     "data": {
      "text/plain": "<IPython.core.display.HTML object>",
      "text/html": "Run data is saved locally in <code>/home/jonathan/PycharmProjects/Adversarial_learning_paper_presentation/wandb/run-20230131_112851-b7awptsm</code>"
     },
     "metadata": {},
     "output_type": "display_data"
    },
    {
     "data": {
      "text/plain": "<IPython.core.display.HTML object>",
      "text/html": "Syncing run <strong><a href=\"https://wandb.ai/j-bytes/adversarial-paper-ift6164/runs/b7awptsm\" target=\"_blank\">floating-lamp-16</a></strong> to <a href=\"https://wandb.ai/j-bytes/adversarial-paper-ift6164\" target=\"_blank\">Weights & Biases</a> (<a href=\"https://wandb.me/run\" target=\"_blank\">docs</a>)<br/>"
     },
     "metadata": {},
     "output_type": "display_data"
    },
    {
     "data": {
      "text/plain": "<IPython.core.display.HTML object>",
      "text/html": " View project at <a href=\"https://wandb.ai/j-bytes/adversarial-paper-ift6164\" target=\"_blank\">https://wandb.ai/j-bytes/adversarial-paper-ift6164</a>"
     },
     "metadata": {},
     "output_type": "display_data"
    },
    {
     "data": {
      "text/plain": "<IPython.core.display.HTML object>",
      "text/html": " View run at <a href=\"https://wandb.ai/j-bytes/adversarial-paper-ift6164/runs/b7awptsm\" target=\"_blank\">https://wandb.ai/j-bytes/adversarial-paper-ift6164/runs/b7awptsm</a>"
     },
     "metadata": {},
     "output_type": "display_data"
    },
    {
     "data": {
      "text/plain": "  0%|          | 0/50 [00:00<?, ?it/s]",
      "application/vnd.jupyter.widget-view+json": {
       "version_major": 2,
       "version_minor": 0,
       "model_id": "69b97f537ad6409d95eb034a95632bd6"
      }
     },
     "metadata": {},
     "output_type": "display_data"
    },
    {
     "data": {
      "text/plain": "  0%|          | 0/40 [00:00<?, ?it/s]",
      "application/vnd.jupyter.widget-view+json": {
       "version_major": 2,
       "version_minor": 0,
       "model_id": "90f6e65878944d05bfb25d644b10c2a5"
      }
     },
     "metadata": {},
     "output_type": "display_data"
    },
    {
     "data": {
      "text/plain": "  0%|          | 0/40 [00:00<?, ?it/s]",
      "application/vnd.jupyter.widget-view+json": {
       "version_major": 2,
       "version_minor": 0,
       "model_id": "76c3aeb0261e446289f411f2e7f66c87"
      }
     },
     "metadata": {},
     "output_type": "display_data"
    },
    {
     "data": {
      "text/plain": "  0%|          | 0/40 [00:00<?, ?it/s]",
      "application/vnd.jupyter.widget-view+json": {
       "version_major": 2,
       "version_minor": 0,
       "model_id": "c950420ae1e847e5a03823a2945c686a"
      }
     },
     "metadata": {},
     "output_type": "display_data"
    },
    {
     "ename": "RuntimeError",
     "evalue": "cuDNN error: CUDNN_STATUS_EXECUTION_FAILED",
     "output_type": "error",
     "traceback": [
      "\u001B[0;31m---------------------------------------------------------------------------\u001B[0m",
      "\u001B[0;31mRuntimeError\u001B[0m                              Traceback (most recent call last)",
      "Cell \u001B[0;32mIn[5], line 55\u001B[0m\n\u001B[1;32m     52\u001B[0m \u001B[38;5;28;01mwith\u001B[39;00m torch\u001B[38;5;241m.\u001B[39mno_grad() :\n\u001B[1;32m     53\u001B[0m     logit_model2_img        \u001B[38;5;241m=\u001B[39m model2(images)\u001B[38;5;241m.\u001B[39mdetach()\n\u001B[0;32m---> 55\u001B[0m adv_images \u001B[38;5;241m=\u001B[39m \u001B[43matk\u001B[49m\u001B[43m(\u001B[49m\u001B[43mimages\u001B[49m\u001B[43m,\u001B[49m\u001B[43mlabels\u001B[49m\u001B[43m)\u001B[49m\u001B[38;5;66;03m# logit_model2_img) # supposed to use labels! ->sensitibity 1.06 with eps=.01/256\u001B[39;00m\n\u001B[1;32m     56\u001B[0m adv_images \u001B[38;5;241m=\u001B[39m adv_images\u001B[38;5;241m.\u001B[39mto(device,non_blocking\u001B[38;5;241m=\u001B[39m\u001B[38;5;28;01mTrue\u001B[39;00m)\n\u001B[1;32m     58\u001B[0m \u001B[38;5;66;03m#logit_model1_img        = model1(images)\u001B[39;00m\n",
      "File \u001B[0;32m~/miniconda3/envs/Adversarial_learning_paper_presentation/lib/python3.9/site-packages/torchattacks/attack.py:429\u001B[0m, in \u001B[0;36mAttack.__call__\u001B[0;34m(self, inputs, labels, *args, **kwargs)\u001B[0m\n\u001B[1;32m    427\u001B[0m     \u001B[38;5;28mself\u001B[39m\u001B[38;5;241m.\u001B[39m_set_normalization_applied(\u001B[38;5;28;01mTrue\u001B[39;00m)\n\u001B[1;32m    428\u001B[0m \u001B[38;5;28;01melse\u001B[39;00m:\n\u001B[0;32m--> 429\u001B[0m     adv_inputs \u001B[38;5;241m=\u001B[39m \u001B[38;5;28;43mself\u001B[39;49m\u001B[38;5;241;43m.\u001B[39;49m\u001B[43mforward\u001B[49m\u001B[43m(\u001B[49m\u001B[43minputs\u001B[49m\u001B[43m,\u001B[49m\u001B[43m \u001B[49m\u001B[43mlabels\u001B[49m\u001B[43m,\u001B[49m\u001B[43m \u001B[49m\u001B[38;5;241;43m*\u001B[39;49m\u001B[43margs\u001B[49m\u001B[43m,\u001B[49m\u001B[43m \u001B[49m\u001B[38;5;241;43m*\u001B[39;49m\u001B[38;5;241;43m*\u001B[39;49m\u001B[43mkwargs\u001B[49m\u001B[43m)\u001B[49m\n\u001B[1;32m    430\u001B[0m     adv_inputs \u001B[38;5;241m=\u001B[39m \u001B[38;5;28mself\u001B[39m\u001B[38;5;241m.\u001B[39mto_type(adv_inputs, \u001B[38;5;28mself\u001B[39m\u001B[38;5;241m.\u001B[39mreturn_type)\n\u001B[1;32m    432\u001B[0m \u001B[38;5;28mself\u001B[39m\u001B[38;5;241m.\u001B[39m_recover_model_mode(given_training)\n",
      "File \u001B[0;32m~/miniconda3/envs/Adversarial_learning_paper_presentation/lib/python3.9/site-packages/torchattacks/attacks/pgd.py:61\u001B[0m, in \u001B[0;36mPGD.forward\u001B[0;34m(self, images, labels)\u001B[0m\n\u001B[1;32m     59\u001B[0m \u001B[38;5;28;01mfor\u001B[39;00m _ \u001B[38;5;129;01min\u001B[39;00m \u001B[38;5;28mrange\u001B[39m(\u001B[38;5;28mself\u001B[39m\u001B[38;5;241m.\u001B[39msteps):\n\u001B[1;32m     60\u001B[0m     adv_images\u001B[38;5;241m.\u001B[39mrequires_grad \u001B[38;5;241m=\u001B[39m \u001B[38;5;28;01mTrue\u001B[39;00m\n\u001B[0;32m---> 61\u001B[0m     outputs \u001B[38;5;241m=\u001B[39m \u001B[38;5;28;43mself\u001B[39;49m\u001B[38;5;241;43m.\u001B[39;49m\u001B[43mget_logits\u001B[49m\u001B[43m(\u001B[49m\u001B[43madv_images\u001B[49m\u001B[43m)\u001B[49m\n\u001B[1;32m     63\u001B[0m     \u001B[38;5;66;03m# Calculate loss\u001B[39;00m\n\u001B[1;32m     64\u001B[0m     \u001B[38;5;28;01mif\u001B[39;00m \u001B[38;5;28mself\u001B[39m\u001B[38;5;241m.\u001B[39mtargeted:\n",
      "File \u001B[0;32m~/miniconda3/envs/Adversarial_learning_paper_presentation/lib/python3.9/site-packages/torchattacks/attack.py:72\u001B[0m, in \u001B[0;36mAttack.get_logits\u001B[0;34m(self, inputs, labels, *args, **kwargs)\u001B[0m\n\u001B[1;32m     70\u001B[0m \u001B[38;5;28;01mif\u001B[39;00m \u001B[38;5;28mself\u001B[39m\u001B[38;5;241m.\u001B[39m_normalization_applied \u001B[38;5;129;01mis\u001B[39;00m \u001B[38;5;28;01mFalse\u001B[39;00m:\n\u001B[1;32m     71\u001B[0m     inputs \u001B[38;5;241m=\u001B[39m \u001B[38;5;28mself\u001B[39m\u001B[38;5;241m.\u001B[39mnormalize(inputs)\n\u001B[0;32m---> 72\u001B[0m logits \u001B[38;5;241m=\u001B[39m \u001B[38;5;28;43mself\u001B[39;49m\u001B[38;5;241;43m.\u001B[39;49m\u001B[43mmodel\u001B[49m\u001B[43m(\u001B[49m\u001B[43minputs\u001B[49m\u001B[43m)\u001B[49m\n\u001B[1;32m     73\u001B[0m \u001B[38;5;28;01mreturn\u001B[39;00m logits\n",
      "File \u001B[0;32m~/miniconda3/envs/Adversarial_learning_paper_presentation/lib/python3.9/site-packages/torch/nn/modules/module.py:1488\u001B[0m, in \u001B[0;36mModule._call_impl\u001B[0;34m(self, *args, **kwargs)\u001B[0m\n\u001B[1;32m   1483\u001B[0m \u001B[38;5;66;03m# If we don't have any hooks, we want to skip the rest of the logic in\u001B[39;00m\n\u001B[1;32m   1484\u001B[0m \u001B[38;5;66;03m# this function, and just call forward.\u001B[39;00m\n\u001B[1;32m   1485\u001B[0m \u001B[38;5;28;01mif\u001B[39;00m \u001B[38;5;129;01mnot\u001B[39;00m (\u001B[38;5;28mself\u001B[39m\u001B[38;5;241m.\u001B[39m_backward_hooks \u001B[38;5;129;01mor\u001B[39;00m \u001B[38;5;28mself\u001B[39m\u001B[38;5;241m.\u001B[39m_backward_pre_hooks \u001B[38;5;129;01mor\u001B[39;00m \u001B[38;5;28mself\u001B[39m\u001B[38;5;241m.\u001B[39m_forward_hooks \u001B[38;5;129;01mor\u001B[39;00m \u001B[38;5;28mself\u001B[39m\u001B[38;5;241m.\u001B[39m_forward_pre_hooks\n\u001B[1;32m   1486\u001B[0m         \u001B[38;5;129;01mor\u001B[39;00m _global_backward_pre_hooks \u001B[38;5;129;01mor\u001B[39;00m _global_backward_hooks\n\u001B[1;32m   1487\u001B[0m         \u001B[38;5;129;01mor\u001B[39;00m _global_forward_hooks \u001B[38;5;129;01mor\u001B[39;00m _global_forward_pre_hooks):\n\u001B[0;32m-> 1488\u001B[0m     \u001B[38;5;28;01mreturn\u001B[39;00m \u001B[43mforward_call\u001B[49m\u001B[43m(\u001B[49m\u001B[38;5;241;43m*\u001B[39;49m\u001B[43margs\u001B[49m\u001B[43m,\u001B[49m\u001B[43m \u001B[49m\u001B[38;5;241;43m*\u001B[39;49m\u001B[38;5;241;43m*\u001B[39;49m\u001B[43mkwargs\u001B[49m\u001B[43m)\u001B[49m\n\u001B[1;32m   1489\u001B[0m \u001B[38;5;66;03m# Do not call functions when jit is used\u001B[39;00m\n\u001B[1;32m   1490\u001B[0m full_backward_hooks, non_full_backward_hooks \u001B[38;5;241m=\u001B[39m [], []\n",
      "File \u001B[0;32m~/miniconda3/envs/Adversarial_learning_paper_presentation/lib/python3.9/site-packages/timm/models/resnet.py:730\u001B[0m, in \u001B[0;36mResNet.forward\u001B[0;34m(self, x)\u001B[0m\n\u001B[1;32m    729\u001B[0m \u001B[38;5;28;01mdef\u001B[39;00m \u001B[38;5;21mforward\u001B[39m(\u001B[38;5;28mself\u001B[39m, x):\n\u001B[0;32m--> 730\u001B[0m     x \u001B[38;5;241m=\u001B[39m \u001B[38;5;28;43mself\u001B[39;49m\u001B[38;5;241;43m.\u001B[39;49m\u001B[43mforward_features\u001B[49m\u001B[43m(\u001B[49m\u001B[43mx\u001B[49m\u001B[43m)\u001B[49m\n\u001B[1;32m    731\u001B[0m     x \u001B[38;5;241m=\u001B[39m \u001B[38;5;28mself\u001B[39m\u001B[38;5;241m.\u001B[39mforward_head(x)\n\u001B[1;32m    732\u001B[0m     \u001B[38;5;28;01mreturn\u001B[39;00m x\n",
      "File \u001B[0;32m~/miniconda3/envs/Adversarial_learning_paper_presentation/lib/python3.9/site-packages/timm/models/resnet.py:719\u001B[0m, in \u001B[0;36mResNet.forward_features\u001B[0;34m(self, x)\u001B[0m\n\u001B[1;32m    717\u001B[0m     x \u001B[38;5;241m=\u001B[39m \u001B[38;5;28mself\u001B[39m\u001B[38;5;241m.\u001B[39mlayer1(x)\n\u001B[1;32m    718\u001B[0m     x \u001B[38;5;241m=\u001B[39m \u001B[38;5;28mself\u001B[39m\u001B[38;5;241m.\u001B[39mlayer2(x)\n\u001B[0;32m--> 719\u001B[0m     x \u001B[38;5;241m=\u001B[39m \u001B[38;5;28;43mself\u001B[39;49m\u001B[38;5;241;43m.\u001B[39;49m\u001B[43mlayer3\u001B[49m\u001B[43m(\u001B[49m\u001B[43mx\u001B[49m\u001B[43m)\u001B[49m\n\u001B[1;32m    720\u001B[0m     x \u001B[38;5;241m=\u001B[39m \u001B[38;5;28mself\u001B[39m\u001B[38;5;241m.\u001B[39mlayer4(x)\n\u001B[1;32m    721\u001B[0m \u001B[38;5;28;01mreturn\u001B[39;00m x\n",
      "File \u001B[0;32m~/miniconda3/envs/Adversarial_learning_paper_presentation/lib/python3.9/site-packages/torch/nn/modules/module.py:1488\u001B[0m, in \u001B[0;36mModule._call_impl\u001B[0;34m(self, *args, **kwargs)\u001B[0m\n\u001B[1;32m   1483\u001B[0m \u001B[38;5;66;03m# If we don't have any hooks, we want to skip the rest of the logic in\u001B[39;00m\n\u001B[1;32m   1484\u001B[0m \u001B[38;5;66;03m# this function, and just call forward.\u001B[39;00m\n\u001B[1;32m   1485\u001B[0m \u001B[38;5;28;01mif\u001B[39;00m \u001B[38;5;129;01mnot\u001B[39;00m (\u001B[38;5;28mself\u001B[39m\u001B[38;5;241m.\u001B[39m_backward_hooks \u001B[38;5;129;01mor\u001B[39;00m \u001B[38;5;28mself\u001B[39m\u001B[38;5;241m.\u001B[39m_backward_pre_hooks \u001B[38;5;129;01mor\u001B[39;00m \u001B[38;5;28mself\u001B[39m\u001B[38;5;241m.\u001B[39m_forward_hooks \u001B[38;5;129;01mor\u001B[39;00m \u001B[38;5;28mself\u001B[39m\u001B[38;5;241m.\u001B[39m_forward_pre_hooks\n\u001B[1;32m   1486\u001B[0m         \u001B[38;5;129;01mor\u001B[39;00m _global_backward_pre_hooks \u001B[38;5;129;01mor\u001B[39;00m _global_backward_hooks\n\u001B[1;32m   1487\u001B[0m         \u001B[38;5;129;01mor\u001B[39;00m _global_forward_hooks \u001B[38;5;129;01mor\u001B[39;00m _global_forward_pre_hooks):\n\u001B[0;32m-> 1488\u001B[0m     \u001B[38;5;28;01mreturn\u001B[39;00m \u001B[43mforward_call\u001B[49m\u001B[43m(\u001B[49m\u001B[38;5;241;43m*\u001B[39;49m\u001B[43margs\u001B[49m\u001B[43m,\u001B[49m\u001B[43m \u001B[49m\u001B[38;5;241;43m*\u001B[39;49m\u001B[38;5;241;43m*\u001B[39;49m\u001B[43mkwargs\u001B[49m\u001B[43m)\u001B[49m\n\u001B[1;32m   1489\u001B[0m \u001B[38;5;66;03m# Do not call functions when jit is used\u001B[39;00m\n\u001B[1;32m   1490\u001B[0m full_backward_hooks, non_full_backward_hooks \u001B[38;5;241m=\u001B[39m [], []\n",
      "File \u001B[0;32m~/miniconda3/envs/Adversarial_learning_paper_presentation/lib/python3.9/site-packages/torch/nn/modules/container.py:217\u001B[0m, in \u001B[0;36mSequential.forward\u001B[0;34m(self, input)\u001B[0m\n\u001B[1;32m    215\u001B[0m \u001B[38;5;28;01mdef\u001B[39;00m \u001B[38;5;21mforward\u001B[39m(\u001B[38;5;28mself\u001B[39m, \u001B[38;5;28minput\u001B[39m):\n\u001B[1;32m    216\u001B[0m     \u001B[38;5;28;01mfor\u001B[39;00m module \u001B[38;5;129;01min\u001B[39;00m \u001B[38;5;28mself\u001B[39m:\n\u001B[0;32m--> 217\u001B[0m         \u001B[38;5;28minput\u001B[39m \u001B[38;5;241m=\u001B[39m \u001B[43mmodule\u001B[49m\u001B[43m(\u001B[49m\u001B[38;5;28;43minput\u001B[39;49m\u001B[43m)\u001B[49m\n\u001B[1;32m    218\u001B[0m     \u001B[38;5;28;01mreturn\u001B[39;00m \u001B[38;5;28minput\u001B[39m\n",
      "File \u001B[0;32m~/miniconda3/envs/Adversarial_learning_paper_presentation/lib/python3.9/site-packages/torch/nn/modules/module.py:1488\u001B[0m, in \u001B[0;36mModule._call_impl\u001B[0;34m(self, *args, **kwargs)\u001B[0m\n\u001B[1;32m   1483\u001B[0m \u001B[38;5;66;03m# If we don't have any hooks, we want to skip the rest of the logic in\u001B[39;00m\n\u001B[1;32m   1484\u001B[0m \u001B[38;5;66;03m# this function, and just call forward.\u001B[39;00m\n\u001B[1;32m   1485\u001B[0m \u001B[38;5;28;01mif\u001B[39;00m \u001B[38;5;129;01mnot\u001B[39;00m (\u001B[38;5;28mself\u001B[39m\u001B[38;5;241m.\u001B[39m_backward_hooks \u001B[38;5;129;01mor\u001B[39;00m \u001B[38;5;28mself\u001B[39m\u001B[38;5;241m.\u001B[39m_backward_pre_hooks \u001B[38;5;129;01mor\u001B[39;00m \u001B[38;5;28mself\u001B[39m\u001B[38;5;241m.\u001B[39m_forward_hooks \u001B[38;5;129;01mor\u001B[39;00m \u001B[38;5;28mself\u001B[39m\u001B[38;5;241m.\u001B[39m_forward_pre_hooks\n\u001B[1;32m   1486\u001B[0m         \u001B[38;5;129;01mor\u001B[39;00m _global_backward_pre_hooks \u001B[38;5;129;01mor\u001B[39;00m _global_backward_hooks\n\u001B[1;32m   1487\u001B[0m         \u001B[38;5;129;01mor\u001B[39;00m _global_forward_hooks \u001B[38;5;129;01mor\u001B[39;00m _global_forward_pre_hooks):\n\u001B[0;32m-> 1488\u001B[0m     \u001B[38;5;28;01mreturn\u001B[39;00m \u001B[43mforward_call\u001B[49m\u001B[43m(\u001B[49m\u001B[38;5;241;43m*\u001B[39;49m\u001B[43margs\u001B[49m\u001B[43m,\u001B[49m\u001B[43m \u001B[49m\u001B[38;5;241;43m*\u001B[39;49m\u001B[38;5;241;43m*\u001B[39;49m\u001B[43mkwargs\u001B[49m\u001B[43m)\u001B[49m\n\u001B[1;32m   1489\u001B[0m \u001B[38;5;66;03m# Do not call functions when jit is used\u001B[39;00m\n\u001B[1;32m   1490\u001B[0m full_backward_hooks, non_full_backward_hooks \u001B[38;5;241m=\u001B[39m [], []\n",
      "File \u001B[0;32m~/miniconda3/envs/Adversarial_learning_paper_presentation/lib/python3.9/site-packages/timm/models/resnet.py:447\u001B[0m, in \u001B[0;36mBottleneck.forward\u001B[0;34m(self, x)\u001B[0m\n\u001B[1;32m    444\u001B[0m x \u001B[38;5;241m=\u001B[39m \u001B[38;5;28mself\u001B[39m\u001B[38;5;241m.\u001B[39mbn1(x)\n\u001B[1;32m    445\u001B[0m x \u001B[38;5;241m=\u001B[39m \u001B[38;5;28mself\u001B[39m\u001B[38;5;241m.\u001B[39mact1(x)\n\u001B[0;32m--> 447\u001B[0m x \u001B[38;5;241m=\u001B[39m \u001B[38;5;28;43mself\u001B[39;49m\u001B[38;5;241;43m.\u001B[39;49m\u001B[43mconv2\u001B[49m\u001B[43m(\u001B[49m\u001B[43mx\u001B[49m\u001B[43m)\u001B[49m\n\u001B[1;32m    448\u001B[0m x \u001B[38;5;241m=\u001B[39m \u001B[38;5;28mself\u001B[39m\u001B[38;5;241m.\u001B[39mbn2(x)\n\u001B[1;32m    449\u001B[0m x \u001B[38;5;241m=\u001B[39m \u001B[38;5;28mself\u001B[39m\u001B[38;5;241m.\u001B[39mdrop_block(x)\n",
      "File \u001B[0;32m~/miniconda3/envs/Adversarial_learning_paper_presentation/lib/python3.9/site-packages/torch/nn/modules/module.py:1488\u001B[0m, in \u001B[0;36mModule._call_impl\u001B[0;34m(self, *args, **kwargs)\u001B[0m\n\u001B[1;32m   1483\u001B[0m \u001B[38;5;66;03m# If we don't have any hooks, we want to skip the rest of the logic in\u001B[39;00m\n\u001B[1;32m   1484\u001B[0m \u001B[38;5;66;03m# this function, and just call forward.\u001B[39;00m\n\u001B[1;32m   1485\u001B[0m \u001B[38;5;28;01mif\u001B[39;00m \u001B[38;5;129;01mnot\u001B[39;00m (\u001B[38;5;28mself\u001B[39m\u001B[38;5;241m.\u001B[39m_backward_hooks \u001B[38;5;129;01mor\u001B[39;00m \u001B[38;5;28mself\u001B[39m\u001B[38;5;241m.\u001B[39m_backward_pre_hooks \u001B[38;5;129;01mor\u001B[39;00m \u001B[38;5;28mself\u001B[39m\u001B[38;5;241m.\u001B[39m_forward_hooks \u001B[38;5;129;01mor\u001B[39;00m \u001B[38;5;28mself\u001B[39m\u001B[38;5;241m.\u001B[39m_forward_pre_hooks\n\u001B[1;32m   1486\u001B[0m         \u001B[38;5;129;01mor\u001B[39;00m _global_backward_pre_hooks \u001B[38;5;129;01mor\u001B[39;00m _global_backward_hooks\n\u001B[1;32m   1487\u001B[0m         \u001B[38;5;129;01mor\u001B[39;00m _global_forward_hooks \u001B[38;5;129;01mor\u001B[39;00m _global_forward_pre_hooks):\n\u001B[0;32m-> 1488\u001B[0m     \u001B[38;5;28;01mreturn\u001B[39;00m \u001B[43mforward_call\u001B[49m\u001B[43m(\u001B[49m\u001B[38;5;241;43m*\u001B[39;49m\u001B[43margs\u001B[49m\u001B[43m,\u001B[49m\u001B[43m \u001B[49m\u001B[38;5;241;43m*\u001B[39;49m\u001B[38;5;241;43m*\u001B[39;49m\u001B[43mkwargs\u001B[49m\u001B[43m)\u001B[49m\n\u001B[1;32m   1489\u001B[0m \u001B[38;5;66;03m# Do not call functions when jit is used\u001B[39;00m\n\u001B[1;32m   1490\u001B[0m full_backward_hooks, non_full_backward_hooks \u001B[38;5;241m=\u001B[39m [], []\n",
      "File \u001B[0;32m~/miniconda3/envs/Adversarial_learning_paper_presentation/lib/python3.9/site-packages/torch/nn/modules/conv.py:463\u001B[0m, in \u001B[0;36mConv2d.forward\u001B[0;34m(self, input)\u001B[0m\n\u001B[1;32m    462\u001B[0m \u001B[38;5;28;01mdef\u001B[39;00m \u001B[38;5;21mforward\u001B[39m(\u001B[38;5;28mself\u001B[39m, \u001B[38;5;28minput\u001B[39m: Tensor) \u001B[38;5;241m-\u001B[39m\u001B[38;5;241m>\u001B[39m Tensor:\n\u001B[0;32m--> 463\u001B[0m     \u001B[38;5;28;01mreturn\u001B[39;00m \u001B[38;5;28;43mself\u001B[39;49m\u001B[38;5;241;43m.\u001B[39;49m\u001B[43m_conv_forward\u001B[49m\u001B[43m(\u001B[49m\u001B[38;5;28;43minput\u001B[39;49m\u001B[43m,\u001B[49m\u001B[43m \u001B[49m\u001B[38;5;28;43mself\u001B[39;49m\u001B[38;5;241;43m.\u001B[39;49m\u001B[43mweight\u001B[49m\u001B[43m,\u001B[49m\u001B[43m \u001B[49m\u001B[38;5;28;43mself\u001B[39;49m\u001B[38;5;241;43m.\u001B[39;49m\u001B[43mbias\u001B[49m\u001B[43m)\u001B[49m\n",
      "File \u001B[0;32m~/miniconda3/envs/Adversarial_learning_paper_presentation/lib/python3.9/site-packages/torch/nn/modules/conv.py:459\u001B[0m, in \u001B[0;36mConv2d._conv_forward\u001B[0;34m(self, input, weight, bias)\u001B[0m\n\u001B[1;32m    455\u001B[0m \u001B[38;5;28;01mif\u001B[39;00m \u001B[38;5;28mself\u001B[39m\u001B[38;5;241m.\u001B[39mpadding_mode \u001B[38;5;241m!=\u001B[39m \u001B[38;5;124m'\u001B[39m\u001B[38;5;124mzeros\u001B[39m\u001B[38;5;124m'\u001B[39m:\n\u001B[1;32m    456\u001B[0m     \u001B[38;5;28;01mreturn\u001B[39;00m F\u001B[38;5;241m.\u001B[39mconv2d(F\u001B[38;5;241m.\u001B[39mpad(\u001B[38;5;28minput\u001B[39m, \u001B[38;5;28mself\u001B[39m\u001B[38;5;241m.\u001B[39m_reversed_padding_repeated_twice, mode\u001B[38;5;241m=\u001B[39m\u001B[38;5;28mself\u001B[39m\u001B[38;5;241m.\u001B[39mpadding_mode),\n\u001B[1;32m    457\u001B[0m                     weight, bias, \u001B[38;5;28mself\u001B[39m\u001B[38;5;241m.\u001B[39mstride,\n\u001B[1;32m    458\u001B[0m                     _pair(\u001B[38;5;241m0\u001B[39m), \u001B[38;5;28mself\u001B[39m\u001B[38;5;241m.\u001B[39mdilation, \u001B[38;5;28mself\u001B[39m\u001B[38;5;241m.\u001B[39mgroups)\n\u001B[0;32m--> 459\u001B[0m \u001B[38;5;28;01mreturn\u001B[39;00m \u001B[43mF\u001B[49m\u001B[38;5;241;43m.\u001B[39;49m\u001B[43mconv2d\u001B[49m\u001B[43m(\u001B[49m\u001B[38;5;28;43minput\u001B[39;49m\u001B[43m,\u001B[49m\u001B[43m \u001B[49m\u001B[43mweight\u001B[49m\u001B[43m,\u001B[49m\u001B[43m \u001B[49m\u001B[43mbias\u001B[49m\u001B[43m,\u001B[49m\u001B[43m \u001B[49m\u001B[38;5;28;43mself\u001B[39;49m\u001B[38;5;241;43m.\u001B[39;49m\u001B[43mstride\u001B[49m\u001B[43m,\u001B[49m\n\u001B[1;32m    460\u001B[0m \u001B[43m                \u001B[49m\u001B[38;5;28;43mself\u001B[39;49m\u001B[38;5;241;43m.\u001B[39;49m\u001B[43mpadding\u001B[49m\u001B[43m,\u001B[49m\u001B[43m \u001B[49m\u001B[38;5;28;43mself\u001B[39;49m\u001B[38;5;241;43m.\u001B[39;49m\u001B[43mdilation\u001B[49m\u001B[43m,\u001B[49m\u001B[43m \u001B[49m\u001B[38;5;28;43mself\u001B[39;49m\u001B[38;5;241;43m.\u001B[39;49m\u001B[43mgroups\u001B[49m\u001B[43m)\u001B[49m\n",
      "\u001B[0;31mRuntimeError\u001B[0m: cuDNN error: CUDNN_STATUS_EXECUTION_FAILED"
     ]
    }
   ],
   "source": [
    "\n",
    "# If, images are normalized:\n",
    "# atk.set_normalization_used(mean=[...], std=[...])\n",
    "\n",
    "for eps in [0,2,4,8,16,32,64] :\n",
    "    model1.load_state_dict(torch.load(f\"{model1.default_cfg['architecture']}.pt\"))\n",
    "    model2.load_state_dict(torch.load(f\"{model2.default_cfg['architecture']}.pt\"))\n",
    "    eps/=256\n",
    "    model1 = model1.to(device)\n",
    "    model2 = model2.to(device)\n",
    "    #train_loader.batch_size=128\n",
    "    optimizer = torch.optim.AdamW(model1.parameters(),lr=1e-4)\n",
    "    scheduler=torch.optim.lr_scheduler.OneCycleLR(optimizer,max_lr=1e-4,epochs=50,steps_per_epoch=len(test_loader))\n",
    "\n",
    "    #atk.loss = torch.nn.MSELoss()\n",
    "    mse = torch.nn.MSELoss()\n",
    "    ce = torch.nn.CrossEntropyLoss()\n",
    "\n",
    "    model1.train()\n",
    "    model2.eval()\n",
    "    import wandb\n",
    "\n",
    "    wandb.init(project=\"adversarial-paper-ift6164\", entity=\"j-bytes\")\n",
    "    config ={\n",
    "        \"eps\" : eps,\n",
    "        \"model1\" : model1.default_cfg[\"architecture\"],\n",
    "        \"model2\" : model2.default_cfg[\"architecture\"],\n",
    "\n",
    "    }\n",
    "    wandb.watch(model1)\n",
    "    wandb.watch(model2)\n",
    "    for epoch in (pbar:=tqdm(range(0,50),leave=True,position=0)) :\n",
    "        running_loss=0\n",
    "\n",
    "        #atk.loss = lambda pred,true : mse(torch.nn.functional.softmax(pred,dim=1).float(),torch.nn.functional.one_hot(true,10).float())\n",
    "        #atk.loss = lambda pred,true : ce(torch.nn.functional.softmax(pred,dim=1),true)\n",
    "        std_logits=None\n",
    "        sensitivity = torch.zeros((10,))\n",
    "        ex=0\n",
    "\n",
    "        accuracy1 = []\n",
    "        accuracy2 = []\n",
    "        for images,labels in tqdm(test_loader,position=1,leave=False) :\n",
    "            atk = torchattacks.PGD(model1, eps=eps, alpha=eps/3, steps=100)\n",
    "            #atk.loss = mse\n",
    "            images,labels = images.to(device,non_blocking=True),labels.to(device,non_blocking=True)\n",
    "\n",
    "\n",
    "\n",
    "\n",
    "\n",
    "            with torch.cuda.amp.autocast(enabled=True) :\n",
    "              with torch.no_grad() :\n",
    "                  logit_model2_img        = model2(images).detach()\n",
    "\n",
    "              adv_images = atk(images,labels)# logit_model2_img) # supposed to use labels! ->sensitibity 1.06 with eps=.01/256\n",
    "              adv_images = adv_images.to(device,non_blocking=True)\n",
    "\n",
    "              #logit_model1_img        = model1(images)\n",
    "              logit_model1_adv_img    = model1(adv_images)\n",
    "              with torch.no_grad() :\n",
    "                  #logit_model2_img        = model2(images).detach()\n",
    "                  logit_model2_adv_img    = model2(adv_images).detach()\n",
    "\n",
    "\n",
    "\n",
    "\n",
    "            loss = mse(logit_model2_adv_img,logit_model1_adv_img)#+mse(logit_model2_img,logit_model1_img)\n",
    "            #loss = ((logit_model2_adv_img-logit_model1_adv_img)**2).mean()\n",
    "\n",
    "            loss.backward()\n",
    "            optimizer.step()\n",
    "            scheduler.step()\n",
    "            optimizer.zero_grad()\n",
    "\n",
    "            running_loss+=loss.item()\n",
    "\n",
    "\n",
    "            if std_logits is None :\n",
    "                std_logits = logit_model2_img.to(\"cpu\",non_blocking=True)\n",
    "            else :\n",
    "                std_logits = torch.cat((std_logits,logit_model2_img.to(\"cpu\",non_blocking=True)),dim=0)\n",
    "\n",
    "\n",
    "            sensitivity += torch.mean(torch.abs(logit_model2_img-logit_model2_adv_img),dim=0).to(\"cpu\",non_blocking=True)\n",
    "            baseline  = (torch.argmax(torch.softmax(logit_model2_img,dim=1),dim=1) == labels).float().mean().round(decimals=2)\n",
    "            accuracy1.append( (torch.argmax(torch.softmax(logit_model1_adv_img,dim=1),dim=1) == labels).float().mean().round(decimals=2).detach().cpu() )\n",
    "            accuracy2.append( (torch.argmax(torch.softmax(logit_model2_adv_img,dim=1),dim=1) == labels).float().mean().round(decimals=2).detach().cpu() )\n",
    "\n",
    "        pbar.set_description(f\"Sensitivity : {torch.mean(sensitivity/len(test_loader)/torch.abs(std_logits)).round(decimals=2)} ,  loss : {round(loss.item(),ndigits=2)} , acc1 : {accuracy1} , acc2 : {accuracy2} , baseline : {baseline}\")\n",
    "\n",
    "        metrics = {\n",
    "            \"sensitivity\"   : torch.mean(sensitivity/len(test_loader)/torch.abs(std_logits)).round(decimals=2),\n",
    "            \"loss\"          : running_loss/len(test_loader),\n",
    "            \"accuracy1\"     : np.mean(accuracy1),\n",
    "            \"accuracy2\"     : np.mean(accuracy2),\n",
    "            \"epoch\"         : epoch,\n",
    "        }\n",
    "        wandb.log(metrics)\n",
    "\n",
    "    wandb.finish()\n",
    "            #adv_pred = torch.softmax(model1(adv_images),dim=1)\n",
    "\n",
    "\n"
   ]
  },
  {
   "cell_type": "code",
   "execution_count": null,
   "metadata": {},
   "outputs": [],
   "source": []
  },
  {
   "cell_type": "code",
   "execution_count": null,
   "metadata": {},
   "outputs": [],
   "source": []
  }
 ],
 "metadata": {
  "kernelspec": {
   "display_name": "Python 3 (ipykernel)",
   "language": "python",
   "name": "python3"
  },
  "language_info": {
   "codemirror_mode": {
    "name": "ipython",
    "version": 3
   },
   "file_extension": ".py",
   "mimetype": "text/x-python",
   "name": "python",
   "nbconvert_exporter": "python",
   "pygments_lexer": "ipython3",
   "version": "3.8.10"
  }
 },
 "nbformat": 4,
 "nbformat_minor": 1
}
