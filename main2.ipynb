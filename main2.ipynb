{
 "cells": [
  {
   "cell_type": "code",
   "execution_count": 1,
   "metadata": {},
   "outputs": [],
   "source": [
    "import os\n",
    "import timm\n",
    "import torch\n",
    "from torch.utils.data import DataLoader\n",
    "import numpy as np\n",
    "import torchattacks\n",
    "import torchvision.transforms as transforms\n",
    "from torchvision import datasets\n",
    "import albumentations as A\n",
    "from torchvision.transforms import ToTensor\n",
    "import matplotlib.pyplot as plt\n",
    "from utils import training_loop,validation_loop,randAugment\n",
    "from tqdm.notebook import tqdm\n",
    "from torch.utils.data import Dataset\n",
    "device= \"cuda\" if torch.cuda.is_available() else \"cpu\"\n",
    "names = [\"airplane\",\"automobile\",\"bird\",\"cat\",\"deer\",\"dog\",\"frog\",\"horse\",\"ship\",\"truck\"]\n",
    "num_classes=len(names)"
   ]
  },
  {
   "cell_type": "code",
   "execution_count": 2,
   "metadata": {},
   "outputs": [
    {
     "name": "stdout",
     "output_type": "stream",
     "text": [
      "Files already downloaded and verified\n",
      "Files already downloaded and verified\n"
     ]
    }
   ],
   "source": [
    "import torchattacks\n",
    "mean = (0.485, 0.456, 0.406)\n",
    "std = (0.229, 0.224, 0.225)\n",
    "\n",
    "model1 = timm.create_model(\"resnext50_32x4d\",pretrained=True,num_classes=num_classes).to(device) #trained on imagenet\n",
    "model2 = timm.create_model(\"convnext_small\",pretrained=True,num_classes=num_classes).to(device) # will be trained on cifar10\n",
    "\n",
    "#ops = randAugment(N=2,M=5,p=0.5,mode=\"all\",cut_out=True)\n",
    "train_transform=transforms.Compose(\n",
    "    [\n",
    "        #transforms.RandAugment(num_ops=5,magnitude=2),\n",
    "\n",
    "        transforms.RandomHorizontalFlip(),\n",
    "        transforms.RandomCrop(32, padding=4),\n",
    "        transforms.ColorJitter(brightness=0.2, contrast=0.2, saturation=0.2),\n",
    "        transforms.ToTensor(),\n",
    "        transforms.Normalize(mean,std)\n",
    "    ]\n",
    ")\n",
    "\n",
    "val_transform=transforms.Compose(\n",
    "    [\n",
    "                transforms.Resize(32),\n",
    "                transforms.CenterCrop(32),\n",
    "                transforms.ToTensor(),\n",
    "                transforms.Normalize(mean, std),\n",
    "    ]\n",
    ")\n",
    "\n",
    "def target_transform(label) :\n",
    "     label_vector = torch.zeros((num_classes))\n",
    "     label_vector[label]=1\n",
    "     return label_vector\n",
    "\n",
    "# class Cifar10SearchDataset(datasets.CIFAR10):\n",
    "#     def __init__(self, root=\"~/data/cifar10\", train=True, download=True, transform=None):\n",
    "#         super().__init__(root=root, train=train, download=download, transform=transform)\n",
    "#\n",
    "#     def __getitem__(self, index):\n",
    "#         image, label = self.data[index], self.targets[index]\n",
    "#\n",
    "#         if self.transform is not None:\n",
    "#             transformed = self.transform(image=image)\n",
    "#             image = transformed[\"image\"]\n",
    "#\n",
    "#         return image, label\n",
    "training_data = datasets.CIFAR10(\n",
    "    root=\"/mnt/f/data\",\n",
    "    train=True,\n",
    "    download=True,\n",
    "    transform=train_transform,\n",
    "    #target_transform=target_transform\n",
    "\n",
    ")\n",
    "\n",
    "test_data = datasets.CIFAR10(\n",
    "    root=\"/mnt/f/data\",\n",
    "    train=False,\n",
    "    download=True,\n",
    "    transform=val_transform,\n",
    "    #target_transform=target_transform\n",
    "\n",
    ")\n",
    "\n",
    "\n",
    "\n"
   ]
  },
  {
   "cell_type": "code",
   "execution_count": 3,
   "metadata": {},
   "outputs": [],
   "source": [
    "train_loader = DataLoader(\n",
    "    training_data,\n",
    "    num_workers=8,\n",
    "    batch_size=256,\n",
    "    shuffle=True\n",
    ")\n",
    "test_loader= DataLoader(\n",
    "    test_data,\n",
    "    num_workers=8,\n",
    "    batch_size=256\n",
    ")"
   ]
  },
  {
   "cell_type": "code",
   "execution_count": 4,
   "metadata": {},
   "outputs": [
    {
     "name": "stdout",
     "output_type": "stream",
     "text": [
      "Model : timm.models.convnext , Accuracy : 0.9147\n",
      "Model : timm.models.resnet , Accuracy : 0.8648\n"
     ]
    }
   ],
   "source": [
    "\n",
    "metrics = {\n",
    "    \"accuracy\" : [],\n",
    "    \"train_loss\" : [],\n",
    "    \"val_loss\" : [],\n",
    "}\n",
    "keep_training=False\n",
    "criterion = lambda  pred, true : torch.nn.functional.cross_entropy(torch.softmax(pred,dim=1),true)\n",
    "for model in  [model2,model1] :\n",
    "    if os.path.exists(f\"{model.__module__}.pt\") :\n",
    "        model.load_state_dict(torch.load(f\"{model.__module__}.pt\"))\n",
    "        model = model.to(device)\n",
    "        val_loss,results = validation_loop(model,test_loader,criterion,device,autocast=False)\n",
    "        accuracy = (results[0].cpu().numpy()== np.argmax(torch.softmax(results[1].cpu(),dim=1).numpy(),axis=1)).mean()\n",
    "        print(f\"Model : {model.__module__} , Accuracy : {accuracy}\")\n",
    "    else :\n",
    "        accuracy=0\n",
    "    if keep_training and accuracy<0.85 :\n",
    "        optimizer = torch.optim.AdamW(model.parameters(),lr=1e-4,weight_decay=1e-3)\n",
    "\n",
    "\n",
    "        scaler = torch.cuda.amp.GradScaler()\n",
    "        max_epoch = 30\n",
    "        scheduler=torch.optim.lr_scheduler.OneCycleLR(max_lr=1e-4,optimizer=optimizer,epochs=max_epoch,steps_per_epoch=len(train_loader))\n",
    "\n",
    "        for epoch in (pbar:=tqdm(range(0,max_epoch),position=0,leave=True)) :\n",
    "            loss = training_loop(model,tqdm(train_loader,position=1,leave=False),optimizer=optimizer,criterion=criterion,device=device,scaler=scaler,clip_norm=0,autocast=False,scheduler=scheduler,epoch=max_epoch)\n",
    "\n",
    "            val_loss,results = validation_loop(model,test_loader,criterion,device,autocast=False)\n",
    "            accuracy = (results[0].cpu().numpy()== np.argmax(torch.softmax(results[1].cpu(),dim=1).numpy(),axis=1)).mean()\n",
    "            pbar.set_description(f\"Training loss : {loss/len(train_loader)} ,  validation loss : {val_loss/len(test_loader)} , accuracy : {accuracy}\")\n",
    "            metrics[\"accuracy\"].append(accuracy)\n",
    "            metrics[\"train_loss\"].append(loss/len(train_loader))\n",
    "            metrics[\"val_loss\"].append(val_loss/len(test_loader))\n",
    "\n",
    "\n",
    "        torch.save(model.state_dict(), f\"{model.__module__}.pt\")\n",
    "        model.to(\"cpu\")\n",
    "\n"
   ]
  },
  {
   "cell_type": "code",
   "execution_count": 7,
   "metadata": {},
   "outputs": [
    {
     "data": {
      "application/vnd.jupyter.widget-view+json": {
       "model_id": "6ccdf6e712e0477e82f7101e730ce9b9",
       "version_major": 2,
       "version_minor": 0
      },
      "text/plain": [
       "  0%|          | 0/50 [00:00<?, ?it/s]"
      ]
     },
     "metadata": {},
     "output_type": "display_data"
    },
    {
     "data": {
      "application/vnd.jupyter.widget-view+json": {
       "model_id": "0cb3f0a9bbb44cec963d99fdc97bf769",
       "version_major": 2,
       "version_minor": 0
      },
      "text/plain": [
       "  0%|          | 0/40 [00:00<?, ?it/s]"
      ]
     },
     "metadata": {},
     "output_type": "display_data"
    },
    {
     "name": "stderr",
     "output_type": "stream",
     "text": [
      "\n",
      "KeyboardInterrupt\n",
      "\n"
     ]
    }
   ],
   "source": [
    "\n",
    "# If, images are normalized:\n",
    "# atk.set_normalization_used(mean=[...], std=[...])\n",
    "\n",
    "metrics = {\n",
    "    \"sensitivity\" : [],\n",
    "    \"loss\" : []\n",
    "}\n",
    "model1 = model1.to(device)\n",
    "model2 = model2.to(device)\n",
    "#train_loader.batch_size=128\n",
    "optimizer = torch.optim.AdamW(model1.parameters(),lr=1e-4)\n",
    "scheduler=torch.optim.lr_scheduler.OneCycleLR(optimizer,max_lr=1e-2,epochs=50,steps_per_epoch=len(test_loader))\n",
    "\n",
    "#atk.loss = torch.nn.MSELoss()\n",
    "mse = torch.nn.MSELoss()\n",
    "ce = torch.nn.CrossEntropyLoss()\n",
    "eps=0#0.01/256\n",
    "model1.train()\n",
    "model2.eval()\n",
    "for epoch in (pbar:=tqdm(range(0,50),leave=True,position=0)) :\n",
    "    running_loss=0\n",
    "    \n",
    "    #atk.loss = lambda pred,true : mse(torch.nn.functional.softmax(pred,dim=1).float(),torch.nn.functional.one_hot(true,10).float())\n",
    "    #atk.loss = lambda pred,true : ce(torch.nn.functional.softmax(pred,dim=1),true)\n",
    "    std_logits=None\n",
    "    sensitivity = torch.zeros((10,))\n",
    "    ex=0\n",
    "    for images,labels in tqdm(test_loader,position=1,leave=False) :\n",
    "        if ex==2 :\n",
    "            continue\n",
    "        atk = torchattacks.PGD(model1, eps=0, alpha=0, steps=100)\n",
    "        #atk.loss = mse\n",
    "        images,labels = images.to(device,non_blocking=True),labels.to(device,non_blocking=True)\n",
    "\n",
    "\n",
    "\n",
    "\n",
    "\n",
    "        with torch.cuda.amp.autocast(enabled=False) :\n",
    "          with torch.no_grad() :\n",
    "              logit_model2_img        = model2(images).detach()\n",
    "                \n",
    "          adv_images = atk(images,labels)# logit_model2_img) # supposed to use labels! ->sensitibity 1.06 with eps=.01/256\n",
    "          adv_images = adv_images.to(device,non_blocking=True)\n",
    "\n",
    "          #logit_model1_img        = model1(images)\n",
    "          logit_model1_adv_img    = model1(adv_images)\n",
    "          with torch.no_grad() :\n",
    "              #logit_model2_img        = model2(images).detach()\n",
    "              logit_model2_adv_img    = model2(adv_images).detach()\n",
    "\n",
    "\n",
    "\n",
    "\n",
    "        loss = mse(logit_model2_adv_img,logit_model1_adv_img)#+mse(logit_model2_img,logit_model1_img)\n",
    "        #loss = ((logit_model2_adv_img-logit_model1_adv_img)**2).mean()\n",
    "        loss.backward()\n",
    "        optimizer.step()\n",
    "        scheduler.step()\n",
    "        optimizer.zero_grad()\n",
    "\n",
    "        running_loss+=loss.item()\n",
    "\n",
    "\n",
    "        if std_logits is None :\n",
    "            std_logits = logit_model2_img.to(\"cpu\",non_blocking=True)\n",
    "        else :\n",
    "            std_logits = torch.cat((std_logits,logit_model2_img.to(\"cpu\",non_blocking=True)),dim=0)\n",
    "\n",
    "        ex+=1\n",
    "        sensitivity += torch.mean(torch.abs(logit_model2_img-logit_model2_adv_img),dim=0).to(\"cpu\",non_blocking=True)\n",
    "        baseline  = (torch.argmax(torch.softmax(logit_model2_img,dim=1),dim=1) == labels).float().mean().round(decimals=2)\n",
    "        accuracy1 = (torch.argmax(torch.softmax(logit_model1_adv_img,dim=1),dim=1) == labels).float().mean().round(decimals=2)\n",
    "        accuracy2 = (torch.argmax(torch.softmax(logit_model2_adv_img,dim=1),dim=1) == labels).float().mean().round(decimals=2)\n",
    "\n",
    "        pbar.set_description(f\"Sensitivity : {torch.mean(sensitivity/2/torch.abs(std_logits)).round(decimals=2)} ,  loss : {round(loss.item(),ndigits=2)} , acc1 : {accuracy1} , acc2 : {accuracy2} , baseline : {baseline}\")\n",
    "    metrics[\"sensitivity\"].append(sensitivity)\n",
    "    metrics[\"loss\"].append(loss)\n",
    "\n",
    "        #adv_pred = torch.softmax(model1(adv_images),dim=1)\n",
    "\n",
    "\n"
   ]
  },
  {
   "cell_type": "code",
   "execution_count": null,
   "metadata": {},
   "outputs": [],
   "source": []
  },
  {
   "cell_type": "code",
   "execution_count": null,
   "metadata": {},
   "outputs": [],
   "source": []
  }
 ],
 "metadata": {
  "kernelspec": {
   "display_name": "Python 3 (ipykernel)",
   "language": "python",
   "name": "python3"
  },
  "language_info": {
   "codemirror_mode": {
    "name": "ipython",
    "version": 3
   },
   "file_extension": ".py",
   "mimetype": "text/x-python",
   "name": "python",
   "nbconvert_exporter": "python",
   "pygments_lexer": "ipython3",
   "version": "3.8.10"
  }
 },
 "nbformat": 4,
 "nbformat_minor": 1
}
