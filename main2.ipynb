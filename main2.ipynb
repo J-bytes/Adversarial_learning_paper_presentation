{
 "cells": [
  {
   "cell_type": "code",
   "execution_count": null,
   "metadata": {
    "collapsed": true,
    "pycharm": {
     "is_executing": true
    }
   },
   "outputs": [],
   "source": [
    "import timm\n",
    "import torch\n",
    "from torch.utils.data import DataLoader\n",
    "import torchattacks\n",
    "import torchvision.transforms as transforms\n",
    "from torchvision import datasets\n",
    "import albumentations as A\n",
    "from torchvision.transforms import ToTensor\n",
    "import matplotlib.pyplot as plt\n",
    "from utils import training_loop,validation_loop\n",
    "import tqdm\n",
    "from torch.utils.data import Dataset\n",
    "device= \"cuda\" if torch.cuda.is_available() else \"cpu\"\n",
    "names = [\"airplane\",\"automobile\",\"bird\",\"cat\",\"deer\",\"dog\",\"frog\",\"horse\",\"ship\",\"truck\"]\n",
    "num_classes=len(names)"
   ]
  },
  {
   "cell_type": "code",
   "execution_count": null,
   "outputs": [],
   "source": [
    "import torchattacks\n",
    "mean = (0.485, 0.456, 0.406)\n",
    "std = (0.229, 0.224, 0.225)\n",
    "\n",
    "model1 = timm.create_model(\"resnet50\",pretrained=True,num_classes=num_classes).to(device) #trained on imagenet\n",
    "model2 = timm.create_model(\"convnext_small\",pretrained=False,num_classes=num_classes).to(device) # will be trained on cifar10\n",
    "train_transform=transforms.Compose(\n",
    "    [\n",
    "        transforms.Resize(32),\n",
    "        transforms.CenterCrop(32),\n",
    "        transforms.ToTensor(),\n",
    "        transforms.Normalize(mean,std)\n",
    "    ]\n",
    ")\n",
    "\n",
    "val_transform=transforms.Compose(\n",
    "    [\n",
    "                transforms.Resize(32),\n",
    "                transforms.CenterCrop(32),\n",
    "                transforms.ToTensor(),\n",
    "                transforms.Normalize(mean, std),\n",
    "    ]\n",
    ")\n",
    "\n",
    "def target_transform(label) :\n",
    "     label_vector = torch.zeros((num_classes))\n",
    "     label_vector[label]=1\n",
    "     return label_vector\n",
    "training_data = datasets.CIFAR10(\n",
    "    root=\"/mnt/f/data\",\n",
    "    train=True,\n",
    "    download=True,\n",
    "    transform=train_transform,\n",
    "    target_transform=target_transform\n",
    ")\n",
    "\n",
    "test_data = datasets.CIFAR10(\n",
    "    root=\"/mnt/f/data\",\n",
    "    train=False,\n",
    "    download=True,\n",
    "    transform=val_transform,\n",
    "    target_transform=target_transform\n",
    ")\n",
    "\n",
    "\n",
    "atk = torchattacks.PGD(model1, eps=8/255, alpha=8/3/255, steps=100)\n"
   ],
   "metadata": {
    "collapsed": false,
    "pycharm": {
     "is_executing": true
    }
   }
  },
  {
   "cell_type": "code",
   "execution_count": null,
   "outputs": [],
   "source": [
    "train_loader = DataLoader(\n",
    "    training_data,\n",
    "    num_workers=4,\n",
    "    batch_size=128,\n",
    "    shuffle=True\n",
    ")\n",
    "test_loader= DataLoader(\n",
    "    test_data,\n",
    "    num_workers=4,\n",
    "    batch_size=128\n",
    ")"
   ],
   "metadata": {
    "collapsed": false,
    "pycharm": {
     "is_executing": true
    }
   }
  },
  {
   "cell_type": "code",
   "execution_count": null,
   "outputs": [],
   "source": [
    "for model in  [model2] :\n",
    "\n",
    "    optimizer = torch.optim.SGD(model.parameters(),lr=1e-3)\n",
    "    criterion = lambda  pred, true : torch.nn.functional.cross_entropy(torch.softmax(pred,dim=1),true)\n",
    "\n",
    "    scaler = torch.cuda.amp.GradScaler()\n",
    "    max_epoch = 10\n",
    "    scheduler=torch.optim.lr_scheduler.OneCycleLR(max_lr=1e-3,optimizer=optimizer,epochs=max_epoch,steps_per_epoch=len(train_loader))\n",
    "    model = model.to(device)\n",
    "    for epoch in range(0,max_epoch) :\n",
    "        loss = training_loop(model,tqdm.tqdm(train_loader),optimizer=optimizer,criterion=criterion,device=device,scaler=scaler,clip_norm=10,autocast=False,scheduler=scheduler,epoch=max_epoch)\n",
    "\n",
    "        val_loss,results = validation_loop(model,test_loader,criterion,device,autocast=False)\n",
    "\n",
    "        print(f\"Training loss : {loss/len(train_loader)} ,  validation loss : {val_loss/len(test_loader)}\")"
   ],
   "metadata": {
    "collapsed": false,
    "pycharm": {
     "is_executing": true
    }
   }
  },
  {
   "cell_type": "code",
   "execution_count": null,
   "outputs": [],
   "source": [
    "\n",
    "# If, images are normalized:\n",
    "# atk.set_normalization_used(mean=[...], std=[...])\n",
    "optimizer = torch.optim.SGD(model1.parameters(),lr=1e-3)\n",
    "accumulate=1000\n",
    "\n",
    "iter = 0\n",
    "for images,labels in tqdm.tqdm(train_loader) :\n",
    "\n",
    "\n",
    "    images,labels = images.to(device),labels.to(device)\n",
    "    adv_images = atk(images, labels)\n",
    "    adv_images = adv_images.to(device)\n",
    "    pred_model1_adv_img = torch.softmax(model1(adv_images),dim=1)\n",
    "    pred_model2_img = torch.softmax(model2(images),dim=1)\n",
    "    pred_model2_adv_img = torch.softmax(model2(adv_images),dim=1)\n",
    "\n",
    "\n",
    "    loss = torch.mean((pred_model2_adv_img-pred_model1_adv_img)**2)\n",
    "    loss.backward()\n",
    "    if iter == accumulate//train_loader.batch_size :\n",
    "        optimizer.step()\n",
    "        optimizer.zero_grad()\n",
    "        iter=0\n",
    "        sensitivity = torch.mean(torch.abs(pred_model2_img-pred_model2_adv_img))\n",
    "        print(f\"Sensitivity : {sensitivity} ,  loss : {loss}\")\n",
    "\n",
    "    iter+=1\n",
    "    #adv_pred = torch.softmax(model1(adv_images),dim=1)\n",
    "\n",
    "\n"
   ],
   "metadata": {
    "collapsed": false,
    "pycharm": {
     "is_executing": true
    }
   }
  },
  {
   "cell_type": "code",
   "execution_count": null,
   "outputs": [],
   "source": [
    "print(adv_out.shape, adv_im.shape)\n",
    "#plt.imshow(adv_out[0].detach().cpu().numpy())\n",
    "#plt.show()\n",
    "for ex,(im,pred) in enumerate(zip(adv_im,adv_out)) :\n",
    "    print(names[torch.argmax(torch.softmax(pred,dim=0))],pred)\n",
    "    plt.imshow(im.detach().cpu().permute(1,2,0).numpy())\n",
    "    plt.show()\n",
    "    if ex==10 :\n",
    "        break"
   ],
   "metadata": {
    "collapsed": false,
    "pycharm": {
     "is_executing": true
    }
   }
  },
  {
   "cell_type": "code",
   "execution_count": null,
   "outputs": [],
   "source": [],
   "metadata": {
    "collapsed": false,
    "pycharm": {
     "is_executing": true
    }
   }
  }
 ],
 "metadata": {
  "kernelspec": {
   "display_name": "Python 3",
   "language": "python",
   "name": "python3"
  },
  "language_info": {
   "codemirror_mode": {
    "name": "ipython",
    "version": 2
   },
   "file_extension": ".py",
   "mimetype": "text/x-python",
   "name": "python",
   "nbconvert_exporter": "python",
   "pygments_lexer": "ipython2",
   "version": "2.7.6"
  }
 },
 "nbformat": 4,
 "nbformat_minor": 0
}
